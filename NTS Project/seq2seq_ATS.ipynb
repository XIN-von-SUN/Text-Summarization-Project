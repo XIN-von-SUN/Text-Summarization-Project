{
  "cells": [
    {
      "cell_type": "markdown",
      "metadata": {
        "id": "aU1fCkVDQsXO",
        "colab_type": "text"
      },
      "source": [
        "- Basic seq2seq without attention by dictionary word2vec\n",
        "- Seq2seq with attention by dictionary word2vec\n",
        "- Seq2seq with attention by pre-trained wiki word embeddings"
      ]
    },
    {
      "cell_type": "markdown",
      "metadata": {},
      "source": [
        "And the dataset I used in this project can be download here:\n",
        "https://www.kaggle.com/snap/amazon-fine-food-reviews/download\n",
        "\n",
        "Also you can open this .ipynb in Colab:\n",
        "https://colab.research.google.com/drive/17MPQCgVwE2QTAVMPwQMprle6IcCl5jr2#scrollTo=1xvhWFX77RB5"
      ]
    },
    {
      "cell_type": "markdown",
      "metadata": {
        "colab_type": "text",
        "id": "1xvhWFX77RB5"
      },
      "source": [
        "## Basic seq2seq by dictionary word2vec"
      ]
    },
    {
      "cell_type": "code",
      "metadata": {
        "id": "ZyV51SfsHWld",
        "colab_type": "code",
        "outputId": "724874f7-b1a6-486c-a283-d8c999cbd4fb",
        "colab": {
          "base_uri": "https://localhost:8080/",
          "height": 68
        }
      },
      "source": [
        "import os\n",
        "import sys\n",
        "import math\n",
        "from collections import Counter\n",
        "import numpy as np\n",
        "import random\n",
        "\n",
        "import torch\n",
        "import torch.nn as nn\n",
        "import torch.nn.functional as F\n",
        "\n",
        "import pandas as pd\n",
        "import numpy as np\n",
        "import matplotlib.pyplot as plt\n",
        "from tqdm import tqdm\n",
        "from sklearn.model_selection import train_test_split\n",
        "import os\n",
        "import pickle\n",
        "import random\n",
        "import sys\n",
        "\n",
        "import nltk\n",
        "nltk.download('punkt')\n",
        "\n",
        "device = torch.device(\"cuda\" if torch.cuda.is_available() else \"cpu\")\n",
        "print(device)"
      ],
      "execution_count": 0,
      "outputs": [
        {
          "output_type": "stream",
          "text": [
            "[nltk_data] Downloading package punkt to /root/nltk_data...\n",
            "[nltk_data]   Unzipping tokenizers/punkt.zip.\n",
            "cuda\n"
          ],
          "name": "stdout"
        }
      ]
    },
    {
      "cell_type": "code",
      "metadata": {
        "id": "Z2CXS1nB9BXE",
        "colab_type": "code",
        "outputId": "363f9e42-2ca1-40ac-ea0b-36efa526631c",
        "colab": {
          "base_uri": "https://localhost:8080/",
          "height": 34
        }
      },
      "source": [
        "import os\n",
        "os.listdir()"
      ],
      "execution_count": 0,
      "outputs": [
        {
          "output_type": "execute_result",
          "data": {
            "text/plain": [
              "['.config', 'drive', 'sample_data']"
            ]
          },
          "metadata": {
            "tags": []
          },
          "execution_count": 3
        }
      ]
    },
    {
      "cell_type": "code",
      "metadata": {
        "id": "Hcx7_oqU4Wpg",
        "colab_type": "code",
        "outputId": "8a48b1e2-aa5e-4411-a8a2-2f05227ac636",
        "colab": {
          "base_uri": "https://localhost:8080/",
          "height": 221
        }
      },
      "source": [
        "DATA_PATH = 'drive/My Drive/'\n",
        "reviews = pd.read_csv(f'{DATA_PATH}Reviews.csv', usecols=['Summary', 'Text'], engine='python', encoding='utf-8', error_bad_lines=False)\n",
        "\n",
        "# drop rows with no Summary\n",
        "reviews.dropna(inplace=True)\n",
        "\n",
        "# drop duplicated \n",
        "reviews.drop_duplicates(['Text'], keep='first', inplace=True)\n",
        "print('total reviews', reviews.shape[0])\n",
        "reviews.head(5)"
      ],
      "execution_count": 0,
      "outputs": [
        {
          "output_type": "stream",
          "text": [
            "total reviews 393576\n"
          ],
          "name": "stdout"
        },
        {
          "output_type": "execute_result",
          "data": {
            "text/html": [
              "<div>\n",
              "<style scoped>\n",
              "    .dataframe tbody tr th:only-of-type {\n",
              "        vertical-align: middle;\n",
              "    }\n",
              "\n",
              "    .dataframe tbody tr th {\n",
              "        vertical-align: top;\n",
              "    }\n",
              "\n",
              "    .dataframe thead th {\n",
              "        text-align: right;\n",
              "    }\n",
              "</style>\n",
              "<table border=\"1\" class=\"dataframe\">\n",
              "  <thead>\n",
              "    <tr style=\"text-align: right;\">\n",
              "      <th></th>\n",
              "      <th>Summary</th>\n",
              "      <th>Text</th>\n",
              "    </tr>\n",
              "  </thead>\n",
              "  <tbody>\n",
              "    <tr>\n",
              "      <th>0</th>\n",
              "      <td>Good Quality Dog Food</td>\n",
              "      <td>I have bought several of the Vitality canned d...</td>\n",
              "    </tr>\n",
              "    <tr>\n",
              "      <th>1</th>\n",
              "      <td>Not as Advertised</td>\n",
              "      <td>Product arrived labeled as Jumbo Salted Peanut...</td>\n",
              "    </tr>\n",
              "    <tr>\n",
              "      <th>2</th>\n",
              "      <td>\"Delight\" says it all</td>\n",
              "      <td>This is a confection that has been around a fe...</td>\n",
              "    </tr>\n",
              "    <tr>\n",
              "      <th>3</th>\n",
              "      <td>Cough Medicine</td>\n",
              "      <td>If you are looking for the secret ingredient i...</td>\n",
              "    </tr>\n",
              "    <tr>\n",
              "      <th>4</th>\n",
              "      <td>Great taffy</td>\n",
              "      <td>Great taffy at a great price.  There was a wid...</td>\n",
              "    </tr>\n",
              "  </tbody>\n",
              "</table>\n",
              "</div>"
            ],
            "text/plain": [
              "                 Summary                                               Text\n",
              "0  Good Quality Dog Food  I have bought several of the Vitality canned d...\n",
              "1      Not as Advertised  Product arrived labeled as Jumbo Salted Peanut...\n",
              "2  \"Delight\" says it all  This is a confection that has been around a fe...\n",
              "3         Cough Medicine  If you are looking for the secret ingredient i...\n",
              "4            Great taffy  Great taffy at a great price.  There was a wid..."
            ]
          },
          "metadata": {
            "tags": []
          },
          "execution_count": 4
        }
      ]
    },
    {
      "cell_type": "code",
      "metadata": {
        "id": "WV_QHmsFHokJ",
        "colab_type": "code",
        "outputId": "7b7961d0-e8f4-4c2d-c2df-e6a224b9dea0",
        "colab": {
          "base_uri": "https://localhost:8080/",
          "height": 369
        }
      },
      "source": [
        "reviews['Summary_len'] = reviews.Summary.apply(lambda x: len(x.split()))\n",
        "reviews['Text_len'] = reviews.Text.apply(lambda x: len(x.split()))  \n",
        "\n",
        "plt.figure(figsize=(20, 5))\n",
        "\n",
        "plt.subplot(1, 2, 1)\n",
        "plt.hist(reviews.Text_len[reviews['Text_len'] < 600], bins=50)\n",
        "plt.title('Text Length')\n",
        "\n",
        "plt.subplot(1, 2, 2)\n",
        "plt.hist(reviews['Summary_len'], bins=40)\n",
        "plt.title('Summary Length')\n",
        "plt.tight_layout()"
      ],
      "execution_count": 0,
      "outputs": [
        {
          "output_type": "display_data",
          "data": {
            "image/png": "[encoded data removed]",
            "text/plain": [
              "<Figure size 1440x360 with 2 Axes>"
            ]
          },
          "metadata": {
            "tags": [],
            "needs_background": "light"
          }
        }
      ]
    },
    {
      "cell_type": "code",
      "metadata": {
        "id": "New0CY3m-CaF",
        "colab_type": "code",
        "outputId": "de05ca3d-944c-42f3-b696-728f9d5fde40",
        "colab": {
          "base_uri": "https://localhost:8080/",
          "height": 204
        }
      },
      "source": [
        "reviews.head()"
      ],
      "execution_count": 0,
      "outputs": [
        {
          "output_type": "execute_result",
          "data": {
            "text/html": [
              "<div>\n",
              "<style scoped>\n",
              "    .dataframe tbody tr th:only-of-type {\n",
              "        vertical-align: middle;\n",
              "    }\n",
              "\n",
              "    .dataframe tbody tr th {\n",
              "        vertical-align: top;\n",
              "    }\n",
              "\n",
              "    .dataframe thead th {\n",
              "        text-align: right;\n",
              "    }\n",
              "</style>\n",
              "<table border=\"1\" class=\"dataframe\">\n",
              "  <thead>\n",
              "    <tr style=\"text-align: right;\">\n",
              "      <th></th>\n",
              "      <th>Summary</th>\n",
              "      <th>Text</th>\n",
              "      <th>Summary_len</th>\n",
              "      <th>Text_len</th>\n",
              "    </tr>\n",
              "  </thead>\n",
              "  <tbody>\n",
              "    <tr>\n",
              "      <th>0</th>\n",
              "      <td>Good Quality Dog Food</td>\n",
              "      <td>I have bought several of the Vitality canned d...</td>\n",
              "      <td>4</td>\n",
              "      <td>48</td>\n",
              "    </tr>\n",
              "    <tr>\n",
              "      <th>1</th>\n",
              "      <td>Not as Advertised</td>\n",
              "      <td>Product arrived labeled as Jumbo Salted Peanut...</td>\n",
              "      <td>3</td>\n",
              "      <td>31</td>\n",
              "    </tr>\n",
              "    <tr>\n",
              "      <th>2</th>\n",
              "      <td>\"Delight\" says it all</td>\n",
              "      <td>This is a confection that has been around a fe...</td>\n",
              "      <td>4</td>\n",
              "      <td>94</td>\n",
              "    </tr>\n",
              "    <tr>\n",
              "      <th>3</th>\n",
              "      <td>Cough Medicine</td>\n",
              "      <td>If you are looking for the secret ingredient i...</td>\n",
              "      <td>2</td>\n",
              "      <td>41</td>\n",
              "    </tr>\n",
              "    <tr>\n",
              "      <th>4</th>\n",
              "      <td>Great taffy</td>\n",
              "      <td>Great taffy at a great price.  There was a wid...</td>\n",
              "      <td>2</td>\n",
              "      <td>27</td>\n",
              "    </tr>\n",
              "  </tbody>\n",
              "</table>\n",
              "</div>"
            ],
            "text/plain": [
              "                 Summary  ... Text_len\n",
              "0  Good Quality Dog Food  ...       48\n",
              "1      Not as Advertised  ...       31\n",
              "2  \"Delight\" says it all  ...       94\n",
              "3         Cough Medicine  ...       41\n",
              "4            Great taffy  ...       27\n",
              "\n",
              "[5 rows x 4 columns]"
            ]
          },
          "metadata": {
            "tags": []
          },
          "execution_count": 6
        }
      ]
    },
    {
      "cell_type": "code",
      "metadata": {
        "id": "dvDo2pks-LOW",
        "colab_type": "code",
        "outputId": "e694324e-c478-4afe-eb46-6f826911ff1a",
        "colab": {
          "base_uri": "https://localhost:8080/",
          "height": 51
        }
      },
      "source": [
        "print('Text length 90 percentile:', np.percentile(reviews.Text_len, 90))\n",
        "print('Summary length 99 percentile:', np.percentile(reviews.Summary_len, 99))"
      ],
      "execution_count": 0,
      "outputs": [
        {
          "output_type": "stream",
          "text": [
            "Text length 90 percentile: 159.0\n",
            "Summary length 99 percentile: 12.0\n"
          ],
          "name": "stdout"
        }
      ]
    },
    {
      "cell_type": "code",
      "metadata": {
        "id": "5LPwz3j49-Xj",
        "colab_type": "code",
        "outputId": "d9617a57-daba-4082-96d4-18577c082de8",
        "colab": {
          "base_uri": "https://localhost:8080/",
          "height": 34
        }
      },
      "source": [
        "# drop short reviews < 10\n",
        "reviews = reviews[(reviews['Text_len'] > 50) & (reviews['Text_len'] < 200)].reset_index(drop=True)\n",
        "\n",
        "print('total reviews', reviews.shape[0])"
      ],
      "execution_count": 0,
      "outputs": [
        {
          "output_type": "stream",
          "text": [
            "total reviews 195348\n"
          ],
          "name": "stdout"
        }
      ]
    },
    {
      "cell_type": "code",
      "metadata": {
        "id": "-FUyGTwv-Ut4",
        "colab_type": "code",
        "colab": {}
      },
      "source": [
        "train_df, test_df = train_test_split(reviews, test_size=0.1, random_state=100)"
      ],
      "execution_count": 0,
      "outputs": []
    },
    {
      "cell_type": "code",
      "metadata": {
        "id": "ewFX-lyOLGKC",
        "colab_type": "code",
        "outputId": "b26c5488-fafe-4c33-973d-7291846c8b19",
        "colab": {
          "base_uri": "https://localhost:8080/",
          "height": 142
        }
      },
      "source": [
        "train_df.head(3)"
      ],
      "execution_count": 0,
      "outputs": [
        {
          "output_type": "execute_result",
          "data": {
            "text/html": [
              "<div>\n",
              "<style scoped>\n",
              "    .dataframe tbody tr th:only-of-type {\n",
              "        vertical-align: middle;\n",
              "    }\n",
              "\n",
              "    .dataframe tbody tr th {\n",
              "        vertical-align: top;\n",
              "    }\n",
              "\n",
              "    .dataframe thead th {\n",
              "        text-align: right;\n",
              "    }\n",
              "</style>\n",
              "<table border=\"1\" class=\"dataframe\">\n",
              "  <thead>\n",
              "    <tr style=\"text-align: right;\">\n",
              "      <th></th>\n",
              "      <th>Summary</th>\n",
              "      <th>Text</th>\n",
              "      <th>Summary_len</th>\n",
              "      <th>Text_len</th>\n",
              "    </tr>\n",
              "  </thead>\n",
              "  <tbody>\n",
              "    <tr>\n",
              "      <th>60674</th>\n",
              "      <td>Syrup</td>\n",
              "      <td>Have searched for this product for several yea...</td>\n",
              "      <td>1</td>\n",
              "      <td>85</td>\n",
              "    </tr>\n",
              "    <tr>\n",
              "      <th>59110</th>\n",
              "      <td>My dog LOVES these bones and so do I....</td>\n",
              "      <td>These bones really freshen the breath and clea...</td>\n",
              "      <td>9</td>\n",
              "      <td>85</td>\n",
              "    </tr>\n",
              "    <tr>\n",
              "      <th>11482</th>\n",
              "      <td>good taste, a little too salty</td>\n",
              "      <td>These chips are unusual and they do \"grow\" on ...</td>\n",
              "      <td>6</td>\n",
              "      <td>52</td>\n",
              "    </tr>\n",
              "  </tbody>\n",
              "</table>\n",
              "</div>"
            ],
            "text/plain": [
              "                                        Summary  ... Text_len\n",
              "60674                                     Syrup  ...       85\n",
              "59110  My dog LOVES these bones and so do I....  ...       85\n",
              "11482            good taste, a little too salty  ...       52\n",
              "\n",
              "[3 rows x 4 columns]"
            ]
          },
          "metadata": {
            "tags": []
          },
          "execution_count": 10
        }
      ]
    },
    {
      "cell_type": "code",
      "metadata": {
        "id": "q5MByxcGKpM0",
        "colab_type": "code",
        "colab": {}
      },
      "source": [
        "def load_data(df):\n",
        "    text = []\n",
        "    summ = []\n",
        "    num_examples = 0\n",
        "\n",
        "    for line in df.Text.values:\n",
        "          line = line.strip().split(\"\\t\")\n",
        "          text.append([\"BOS\"] + nltk.word_tokenize(line[0].lower()) + [\"EOS\"])\n",
        "\n",
        "    for line in df.Summary.values:\n",
        "          line = line.strip().split(\"\\t\")\n",
        "          summ.append([\"BOS\"] + nltk.word_tokenize(line[0].lower()) + [\"EOS\"])\n",
        "    \n",
        "    return text, summ"
      ],
      "execution_count": 0,
      "outputs": []
    },
    {
      "cell_type": "code",
      "metadata": {
        "id": "2WIKSoCcIMq5",
        "colab_type": "code",
        "colab": {}
      },
      "source": [
        "train_text, train_summ = load_data(train_df)\n",
        "dev_text, dev_summ = load_data(test_df)"
      ],
      "execution_count": 0,
      "outputs": []
    },
    {
      "cell_type": "code",
      "metadata": {
        "id": "kye-INWpL28g",
        "colab_type": "code",
        "outputId": "831260e8-42a4-4c2c-c5ae-6c7788d32e3b",
        "colab": {
          "base_uri": "https://localhost:8080/",
          "height": 110
        }
      },
      "source": [
        "print(train_text[0])\n",
        "print(train_summ[0])\n",
        "print(dev_text[0])\n",
        "print(dev_summ[0])"
      ],
      "execution_count": 0,
      "outputs": [
        {
          "output_type": "stream",
          "text": [
            "['BOS', 'have', 'searched', 'for', 'this', 'product', 'for', 'several', 'years', 'since', 'we', 'moved', 'to', 'kentucky', 'from', 'vermont', '.', 'we', 'have', 'always', 'picked', 'up', 'several', 'bottles', 'when', 'we', 'go', 'home', 'to', 'visit', 'but', 'since', 'we', 'flew', 'the', 'last', 'couple', 'of', 'times', ',', 'we', 'were', 'unable', 'to', 'bring', 'it', 'back', 'with', 'us', '.', 'i', 'found', 'this', 'online', 'at', 'amazon.com', 'at', 'a', 'very', 'reasonable', 'price', 'and', 'shipping', 'was', 'free', 'because', 'i', 'ordered', 'something', 'else', 'as', 'well', '.', 'although', 'we', 'are', 'from', 'vermont', ',', 'my', 'whole', 'family', 'prefers', 'the', 'vermont', 'maid', 'syrup', 'to', 'the', 'genuine', 'article', '.', 'EOS']\n",
            "['BOS', 'syrup', 'EOS']\n",
            "['BOS', 'we', 'are', 'a', 'family', 'who', 'love', 'our', 'bottled', 'sodas', 'so', 'i', 'must', 'say', 'i', \"'ve\", 'been', 'disappointed', 'with', 'the', 'selections', 'we', \"'ve\", 'had', 'lately', '.', 'i', 'know', 'many', 'sodas', 'are', 'mass', 'bottled', 'but', 'it', 'seems', 'while', 'they', 'are', 'high', 'on', 'carbonation', 'they', 'do', \"n't\", 'taste', 'much', 'like', 'the', 'flavor', 'on', 'the', 'label', '.', 'that', 'is', 'what', 'we', 'had', 'with', 'this', 'item', '.', 'where', 'was', 'the', 'green', 'apple', 'flavor', '?', 'did', 'i', 'get', 'a', 'bad', 'batch', '?', 'not', 'satisfied', 'at', 'all', 'EOS']\n",
            "['BOS', 'still', 'looking', 'for', 'the', 'apple', 'flavor', 'EOS']\n"
          ],
          "name": "stdout"
        }
      ]
    },
    {
      "cell_type": "code",
      "metadata": {
        "id": "glHHP2ODIM6g",
        "colab_type": "code",
        "colab": {}
      },
      "source": [
        "UNK_IDX = 0\n",
        "PAD_IDX = 1\n",
        "\n",
        "def build_dict(sentences, max_words=50000):\n",
        "    word_count = Counter()\n",
        "    for sentence in sentences:\n",
        "        for s in sentence:\n",
        "            word_count[s] += 1\n",
        "    ls = word_count.most_common(max_words)\n",
        "    total_words = len(ls) + 2\n",
        "    word_dict = {w[0]: index+2 for index, w in enumerate(ls)}\n",
        "    word_dict[\"UNK\"] = UNK_IDX\n",
        "    word_dict[\"PAD\"] = PAD_IDX\n",
        "    return word_dict, total_words\n",
        "\n",
        "text_dict, text_total_words = build_dict(train_text)\n",
        "summ_dict, summ_total_words = build_dict(train_summ)\n",
        "inv_text_dict = {v: k for k, v in text_dict.items()}\n",
        "inv_summ_dict = {v: k for k, v in summ_dict.items()}"
      ],
      "execution_count": 0,
      "outputs": []
    },
    {
      "cell_type": "code",
      "metadata": {
        "id": "pHUIZ4UzM9sa",
        "colab_type": "code",
        "outputId": "48ac0509-22c2-43f8-b105-71536f90ebaf",
        "colab": {
          "base_uri": "https://localhost:8080/",
          "height": 34
        }
      },
      "source": [
        "print(text_total_words, summ_total_words)"
      ],
      "execution_count": 0,
      "outputs": [
        {
          "output_type": "stream",
          "text": [
            "50002 27782\n"
          ],
          "name": "stdout"
        }
      ]
    },
    {
      "cell_type": "code",
      "metadata": {
        "id": "m2QD7ZZyINFF",
        "colab_type": "code",
        "colab": {}
      },
      "source": [
        "def embedding(text_sentences, summ_sentences, text_dict, summ_dict, sort_by_len=True):\n",
        "    '''\n",
        "    Enmbedding the sentence to vector sequences.  \n",
        "    '''\n",
        "    length = len(text_sentences)\n",
        "    out_text_sentences = [[text_dict.get(w, 0) for w in sent] for sent in text_sentences]\n",
        "    out_summ_sentences = [[summ_dict.get(w, 0) for w in sent] for sent in summ_sentences]\n",
        "\n",
        "    # sort sentences by english lengths\n",
        "    def len_argsort(seq):\n",
        "        return sorted(range(len(seq)), key=lambda x: len(seq[x]))\n",
        "       \n",
        "    if sort_by_len:\n",
        "        sorted_index = len_argsort(out_text_sentences)\n",
        "        out_text_sentences = [out_text_sentences[i] for i in sorted_index]\n",
        "        out_summ_sentences = [out_summ_sentences[i] for i in sorted_index]\n",
        "        \n",
        "    return out_text_sentences, out_summ_sentences\n",
        "\n",
        "train_text, train_summ = embedding(train_text, train_summ, text_dict, summ_dict)\n",
        "dev_text, dev_summ = embedding(dev_text, dev_summ, text_dict, summ_dict)"
      ],
      "execution_count": 0,
      "outputs": []
    },
    {
      "cell_type": "code",
      "metadata": {
        "id": "_bI7SZ-hNzOf",
        "colab_type": "code",
        "outputId": "08240cbe-c7ad-4b4b-ea6d-df8b981b3719",
        "colab": {
          "base_uri": "https://localhost:8080/",
          "height": 110
        }
      },
      "source": [
        "print(train_text[0])\n",
        "print(train_summ[0])\n",
        "print(dev_text[0])\n",
        "print(dev_summ[0])"
      ],
      "execution_count": 0,
      "outputs": [
        {
          "output_type": "stream",
          "text": [
            "[19, 22, 390, 840, 18, 12, 0, 315, 150, 407, 338, 7, 2830, 443, 249, 10, 14802, 3650, 688, 66, 2, 119, 3780, 35, 172, 43, 8, 29, 2, 4, 2138, 528, 338, 361, 4, 252, 100, 8, 2, 22210, 57, 1073, 50, 6, 823, 483, 66, 2, 4, 60, 13918, 167, 20]\n",
            "[2, 6, 89, 3]\n",
            "[19, 8371, 255, 304, 6, 13761, 11, 3, 117, 4294, 824, 85, 11, 4, 89, 8, 17, 22, 135, 66, 6, 1723, 7, 2869, 1464, 6, 56, 134, 75, 66, 148, 46, 37, 128, 1723, 35, 7, 342, 1125, 333, 8, 450, 57, 603, 87, 18, 401, 57, 969, 6, 182, 255, 20]\n",
            "[2, 9024, 7, 14, 3]\n"
          ],
          "name": "stdout"
        }
      ]
    },
    {
      "cell_type": "code",
      "metadata": {
        "id": "4ydTOASpINPQ",
        "colab_type": "code",
        "colab": {}
      },
      "source": [
        "def get_minibatches(n, minibatch_size, shuffle=True):\n",
        "    idx_list = np.arange(0, n, minibatch_size)\n",
        "    if shuffle:\n",
        "        np.random.shuffle(idx_list)\n",
        "    minibatches = []\n",
        "    for idx in idx_list:\n",
        "        minibatches.append(np.arange(idx, min(idx + minibatch_size, n)))\n",
        "    return minibatches\n",
        "\n",
        "def prepare_data(seqs):\n",
        "    lengths = [len(seq) for seq in seqs]\n",
        "    n_samples = len(seqs)\n",
        "    max_len = np.max(lengths)\n",
        "\n",
        "    x = np.zeros((n_samples, max_len)).astype('int32')\n",
        "    x_lengths = np.array(lengths).astype(\"int32\")\n",
        "    for idx, seq in enumerate(seqs):\n",
        "        x[idx, :lengths[idx]] = seq\n",
        "    return x, x_lengths #x_mask\n",
        "\n",
        "def gen_examples(text_sentences, summ_sentences, batch_size):\n",
        "    minibatches = get_minibatches(len(text_sentences), batch_size)\n",
        "    all_ex = []\n",
        "    for minibatch in minibatches:\n",
        "        mb_text_sentences = [text_sentences[t] for t in minibatch]\n",
        "        mb_summ_sentences = [summ_sentences[t] for t in minibatch]\n",
        "        mb_x, mb_x_len = prepare_data(mb_text_sentences)\n",
        "        mb_y, mb_y_len = prepare_data(mb_summ_sentences)\n",
        "        all_ex.append((mb_x, mb_x_len, mb_y, mb_y_len))\n",
        "    return all_ex\n",
        "\n",
        "batch_size = 64\n",
        "train_data = gen_examples(train_text, train_summ, batch_size)\n",
        "random.shuffle(train_data)\n",
        "dev_data = gen_examples(dev_text, dev_summ, batch_size)"
      ],
      "execution_count": 0,
      "outputs": []
    },
    {
      "cell_type": "code",
      "metadata": {
        "id": "1BnOgHCZCX82",
        "colab_type": "code",
        "outputId": "b26e3fdf-9918-494d-d354-6194bf7aae6b",
        "colab": {
          "base_uri": "https://localhost:8080/",
          "height": 255
        }
      },
      "source": [
        "print(len(train_data))\n",
        "print(len(train_data[0]))\n",
        "print(len(train_data[0][0]))\n",
        "print(len(train_data[0][0][1]))\n",
        "\n",
        "print(train_data[0][0][0])"
      ],
      "execution_count": 0,
      "outputs": [
        {
          "output_type": "stream",
          "text": [
            "2748\n",
            "4\n",
            "64\n",
            "110\n",
            "[   19     4    29  1506    58     4   131    38    24     4    63     7\n",
            "   484 13270    36     4  1132     4    60  2249     8     2    25   180\n",
            "    32  1018     3   113   122    10    52     5    24   210    17   708\n",
            "    21    85    11     7   444   151   255  1928   107    47    25    26\n",
            "  1102     2    21   246   317   929   151    11   152    86 10251   113\n",
            "     5   202    70   929   312    10    96     4   758   565   295   764\n",
            "     2     3   255    11   533  2632   356     5     6     3   848    31\n",
            "  2171    17   212   409     6   247   249  1780  6306     2    30   826\n",
            "   224     5     6    30    26 10251    59     2   297   167    12    55\n",
            "     2    20]\n"
          ],
          "name": "stdout"
        }
      ]
    },
    {
      "cell_type": "code",
      "metadata": {
        "id": "U4-0IWNKINYI",
        "colab_type": "code",
        "colab": {}
      },
      "source": [
        "class PlainEncoder(nn.Module):\n",
        "    def __init__(self, vocab_size, hidden_size, dropout=0.2):\n",
        "        super(PlainEncoder, self).__init__()\n",
        "        self.embed = nn.Embedding(vocab_size, hidden_size)\n",
        "        self.rnn = nn.GRU(hidden_size, hidden_size, batch_first=True)\n",
        "        self.dropout = nn.Dropout(dropout)\n",
        "\n",
        "    def forward(self, x, lengths):\n",
        "        sorted_len, sorted_idx = lengths.sort(0, descending=True)\n",
        "        x_sorted = x[sorted_idx.long()]\n",
        "        embedded = self.dropout(self.embed(x_sorted))\n",
        "        packed_embedded = nn.utils.rnn.pack_padded_sequence(embedded, sorted_len.long().cpu().data.numpy(), batch_first=True)\n",
        "        packed_out, hid = self.rnn(packed_embedded)\n",
        "        out, _ = nn.utils.rnn.pad_packed_sequence(packed_out, batch_first=True)\n",
        "        _, original_idx = sorted_idx.sort(0, descending=False)\n",
        "        out = out[original_idx.long()].contiguous()\n",
        "        hid = hid[:, original_idx.long()].contiguous()\n",
        "        \n",
        "        return out, hid[[-1]]\n",
        "\n",
        "class PlainDecoder(nn.Module):\n",
        "    def __init__(self, vocab_size, hidden_size, dropout=0.2):\n",
        "        super(PlainDecoder, self).__init__()\n",
        "        self.embed = nn.Embedding(vocab_size, hidden_size)\n",
        "        self.rnn = nn.GRU(hidden_size, hidden_size, batch_first=True)\n",
        "        self.out = nn.Linear(hidden_size, vocab_size)\n",
        "        self.dropout = nn.Dropout(dropout)\n",
        "        \n",
        "    def forward(self, y, y_lengths, hid):\n",
        "        sorted_len, sorted_idx = y_lengths.sort(0, descending=True)\n",
        "        y_sorted = y[sorted_idx.long()]\n",
        "        hid = hid[:, sorted_idx.long()]\n",
        "\n",
        "        y_sorted = self.dropout(self.embed(y_sorted)) # batch_size, output_length, embed_size\n",
        "\n",
        "        packed_seq = nn.utils.rnn.pack_padded_sequence(y_sorted, sorted_len.long().cpu().data.numpy(), batch_first=True)\n",
        "        out, hid = self.rnn(packed_seq, hid)\n",
        "        unpacked, _ = nn.utils.rnn.pad_packed_sequence(out, batch_first=True)\n",
        "        _, original_idx = sorted_idx.sort(0, descending=False)\n",
        "        output_seq = unpacked[original_idx.long()].contiguous()\n",
        "        # print(output_seq.shape)\n",
        "        hid = hid[:, original_idx.long()].contiguous()\n",
        "        output = F.log_softmax(self.out(output_seq), -1)\n",
        "        \n",
        "        return output, hid\n",
        "    \n",
        "class PlainSeq2Seq(nn.Module):\n",
        "    def __init__(self, encoder, decoder):\n",
        "        super(PlainSeq2Seq, self).__init__()\n",
        "        self.encoder = encoder\n",
        "        self.decoder = decoder\n",
        "        \n",
        "    def forward(self, x, x_lengths, y, y_lengths):\n",
        "        encoder_out, hid = self.encoder(x, x_lengths)\n",
        "        output, hid = self.decoder(y=y,\n",
        "                    y_lengths=y_lengths,\n",
        "                    hid=hid)\n",
        "        return output, None\n",
        "    \n",
        "    def predict(self, x, x_lengths, y, max_length=12):\n",
        "        encoder_out, hid = self.encoder(x, x_lengths)\n",
        "        preds = []\n",
        "        batch_size = x.shape[0]\n",
        "        attns = []\n",
        "        for i in range(max_length):\n",
        "            output, hid = self.decoder(y=y,\n",
        "                    y_lengths=torch.ones(batch_size).long().to(y.device),\n",
        "                    hid=hid)\n",
        "            y = output.max(2)[1].view(batch_size, 1)\n",
        "            preds.append(y)\n",
        "            \n",
        "        return torch.cat(preds, 1), None"
      ],
      "execution_count": 0,
      "outputs": []
    },
    {
      "cell_type": "code",
      "metadata": {
        "id": "UWUsmyukINfP",
        "colab_type": "code",
        "colab": {}
      },
      "source": [
        "class LanguageModelCriterion(nn.Module):\n",
        "    def __init__(self):\n",
        "        super(LanguageModelCriterion, self).__init__()\n",
        "\n",
        "    def forward(self, input, target, mask):\n",
        "        input = input.contiguous().view(-1, input.size(2))\n",
        "        target = target.contiguous().view(-1, 1)\n",
        "        mask = mask.contiguous().view(-1, 1)\n",
        "        output = -input.gather(1, target) * mask\n",
        "        output = torch.sum(output) / torch.sum(mask)\n",
        "\n",
        "        return output"
      ],
      "execution_count": 0,
      "outputs": []
    },
    {
      "cell_type": "code",
      "metadata": {
        "id": "I7LGp7Y4OYJZ",
        "colab_type": "code",
        "colab": {}
      },
      "source": [
        "def evaluate(model, data):\n",
        "    model.eval()\n",
        "    total_num_words = total_loss = 0.\n",
        "    with torch.no_grad():\n",
        "        for it, (mb_x, mb_x_lengths, mb_y, mb_y_lengths) in enumerate(data):\n",
        "            mb_x = torch.from_numpy(mb_x).long().to(device)\n",
        "            mb_x_lengths = torch.from_numpy(mb_x_lengths).long().to(device)\n",
        "            mb_input = torch.from_numpy(mb_y[:,:-1]).long().to(device)\n",
        "            mb_out = torch.from_numpy(mb_y[:, 1:]).long().to(device)\n",
        "            mb_y_lengths = torch.from_numpy(mb_y_lengths-1).long().to(device)\n",
        "            mb_y_lengths[mb_y_lengths <= 0] = 1\n",
        "\n",
        "            mb_pred, attn = model(mb_x, mb_x_lengths, mb_input, mb_y_lengths)\n",
        "\n",
        "            mb_out_mask = torch.arange(mb_y_lengths.max().item(), device=device)[None, :] < mb_y_lengths[:, None]\n",
        "            mb_out_mask = mb_out_mask.float()\n",
        "            loss = crit(mb_pred, mb_out, mb_out_mask)\n",
        "\n",
        "            num_words = torch.sum(mb_y_lengths).item()\n",
        "            total_loss += loss.item() * num_words\n",
        "            total_num_words += num_words\n",
        "\n",
        "    print(\"evaluation loss\", total_loss/total_num_words)"
      ],
      "execution_count": 0,
      "outputs": []
    },
    {
      "cell_type": "code",
      "metadata": {
        "id": "zVhOPZgQJK_M",
        "colab_type": "code",
        "colab": {}
      },
      "source": [
        "def train(model, data, num_epochs):\n",
        "    ls = []\n",
        "    for epoch in range(num_epochs):\n",
        "        total_num_words = total_loss = 0.\n",
        "        model.train()\n",
        "        for it, (mb_x, mb_x_lengths, mb_y, mb_y_lengths) in enumerate(data):\n",
        "            mb_x = torch.from_numpy(mb_x).long().to(device)\n",
        "            mb_x_lengths = torch.from_numpy(mb_x_lengths).long().to(device)\n",
        "            mb_input = torch.from_numpy(mb_y[:,:-1]).long().to(device)\n",
        "            mb_out = torch.from_numpy(mb_y[:, 1:]).long().to(device)\n",
        "            mb_y_lengths = torch.from_numpy(mb_y_lengths-1).long().to(device)\n",
        "            mb_y_lengths[mb_y_lengths <= 0] = 1\n",
        "\n",
        "            mb_pred, attn = model(mb_x, mb_x_lengths, mb_input, mb_y_lengths)\n",
        "\n",
        "            mb_out_mask = torch.arange(mb_y_lengths.max().item(), device=device)[None, :] < mb_y_lengths[:, None]\n",
        "            mb_out_mask = mb_out_mask.float()\n",
        "            loss = crit(mb_pred, mb_out, mb_out_mask)\n",
        "\n",
        "            num_words = torch.sum(mb_y_lengths).item()\n",
        "            total_loss += loss.item() * num_words\n",
        "            total_num_words += num_words\n",
        "\n",
        "            optimizer.zero_grad()\n",
        "            loss.backward()\n",
        "            torch.nn.utils.clip_grad_norm_(model.parameters(), 5.)\n",
        "            optimizer.step()\n",
        "\n",
        "            if it % 100 == 0:\n",
        "                print(\"epoch\", epoch, \"iteration\", it, \"loss\", loss.item())\n",
        "        print(\"epoch\", epoch, \"training loss\", total_loss/total_num_words)\n",
        "        if epoch % 5 == 0:\n",
        "            print(\"evaluating on dev...\")\n",
        "            evaluate(model, dev_data)\n",
        "\n",
        "        ls.append(total_loss/total_num_words)\n",
        "\n",
        "    return ls    "
      ],
      "execution_count": 0,
      "outputs": []
    },
    {
      "cell_type": "code",
      "metadata": {
        "id": "rBG7TkBPINmy",
        "colab_type": "code",
        "colab": {}
      },
      "source": [
        "device = torch.device(\"cuda\" if torch.cuda.is_available() else \"cpu\")\n",
        "dropout=0.1\n",
        "\n",
        "text_vocab_size = len(text_dict)\n",
        "summ_vocab_size = len(summ_dict)\n",
        "embed_size = hidden_size = 100\n",
        "\n",
        "encoder = PlainEncoder(vocab_size=text_vocab_size, \n",
        "                  hidden_size=hidden_size,\n",
        "                dropout=dropout)\n",
        "decoder = PlainDecoder(vocab_size=summ_vocab_size, \n",
        "                  hidden_size=hidden_size,\n",
        "                      dropout=dropout)\n",
        "\n",
        "model_no_att = PlainSeq2Seq(encoder, decoder)\n",
        "model_no_att = model_no_att.to(device)\n",
        "\n",
        "crit = LanguageModelCriterion().to(device)\n",
        "optimizer = torch.optim.Adam(model_no_att.parameters())"
      ],
      "execution_count": 0,
      "outputs": []
    },
    {
      "cell_type": "code",
      "metadata": {
        "id": "c3Q2zMm2INs9",
        "colab_type": "code",
        "colab": {}
      },
      "source": [
        "loss = train(model_no_att, train_data, 2)"
      ],
      "execution_count": 0,
      "outputs": []
    },
    {
      "cell_type": "code",
      "metadata": {
        "id": "e8MXFh_CqP_O",
        "colab_type": "code",
        "colab": {}
      },
      "source": [
        "def plot_loss(loss):\n",
        "    plt.figure(figsize=(10, 5))\n",
        "    plt.plot(loss, label='train_loss')\n",
        "    plt.legend()\n",
        "    plt.title('Training Results')\n",
        "    plt.xlabel('epoch')\n",
        "    plt.ylabel('loss')\n",
        "    plt.show()"
      ],
      "execution_count": 0,
      "outputs": []
    },
    {
      "cell_type": "code",
      "metadata": {
        "id": "0WVhsc7Cs2zc",
        "colab_type": "code",
        "outputId": "4225afc2-c685-4227-803b-447115bcfceb",
        "colab": {
          "base_uri": "https://localhost:8080/",
          "height": 350
        }
      },
      "source": [
        "plot_loss(loss)"
      ],
      "execution_count": 0,
      "outputs": [
        {
          "output_type": "display_data",
          "data": {
            "image/png": "[encoded data removed]",
            "text/plain": [
              "<Figure size 720x360 with 1 Axes>"
            ]
          },
          "metadata": {
            "tags": [],
            "needs_background": "light"
          }
        }
      ]
    },
    {
      "cell_type": "code",
      "metadata": {
        "id": "xlZNEXb4Q5jH",
        "colab_type": "code",
        "colab": {}
      },
      "source": [
        "# torch.save(model_no_att, 'drive/My Drive/model_seq2seq_no_att.pkl')\n",
        "model_no_att = torch.load('drive/My Drive/model_seq2seq_no_att.pkl')"
      ],
      "execution_count": 0,
      "outputs": []
    },
    {
      "cell_type": "code",
      "metadata": {
        "id": "4oF-b7nkqir-",
        "colab_type": "code",
        "colab": {}
      },
      "source": [
        "def pred_dev(i, model):\n",
        "    model.eval()\n",
        "\n",
        "    text_sent = \" \".join([inv_text_dict[word] for word in dev_text[i]])\n",
        "    summ_truth = \" \".join([inv_summ_dict[word] for word in dev_summ[i]]).strip('BOS').strip('EOS')\n",
        "    print(\"text_sent is: \", text_sent)\n",
        "    print(\"summ_truth is: \", summ_truth)\n",
        "\n",
        "    sent = nltk.word_tokenize(text_sent.lower())\n",
        "    bos = torch.Tensor([[summ_dict[\"BOS\"]]]).long().to(device)\n",
        "    \n",
        "    mb_x = torch.Tensor([[text_dict.get(w, 0) for w in sent]]).long().to(device)\n",
        "    mb_x_len = torch.Tensor([len(sent)]).long().to(device)\n",
        "    \n",
        "    summs, attention = model.predict(mb_x, mb_x_len, bos)\n",
        "    summs = [inv_summ_dict[i] for i in summs.data.cpu().numpy().reshape(-1)]\n",
        "\n",
        "    summ = []\n",
        "    for word in summs:\n",
        "        if word != \"EOS\":\n",
        "            summ.append(word)\n",
        "        else:\n",
        "            break\n",
        "\n",
        "    summ_pred = \" \".join(summ)\n",
        "    print(\"summ_pred is: \", summ_pred)\n",
        "   "
      ],
      "execution_count": 0,
      "outputs": []
    },
    {
      "cell_type": "code",
      "metadata": {
        "id": "RxCVkOq-Kalu",
        "colab_type": "code",
        "outputId": "27a29c74-a4d9-4d61-86bb-ad5e9891afb2",
        "colab": {
          "base_uri": "https://localhost:8080/",
          "height": 246
        }
      },
      "source": [
        "for i in range(1000,1003):\n",
        "    pred_dev(i, model_no_att)\n",
        "    print()"
      ],
      "execution_count": 0,
      "outputs": [
        {
          "output_type": "stream",
          "text": [
            "text_sent is:  BOS gave this as a gift to a french friend . she felt it was not like the mg 's she was used to in france . something about the `` glace '' part . the sugary cover was not right . i had one , and it was quite sticky . wonder if the quality is affected by UNK conditions . EOS\n",
            "summ_truth is:   UNK UNK \n",
            "summ_pred is:  a little bit of my first\n",
            "\n",
            "text_sent is:  BOS they 're all individually wrapped which is super convenient , the only thing is that when you first put them in your mouth , you almost ca n't handle the bitter taste , but a few seconds later you 'll start to taste matcha and green tea flavor . overall , it tastes really good if you like matcha taste . EOS\n",
            "summ_truth is:   bitter at first then tastes really good \n",
            "summ_pred is:  matcha\n",
            "\n",
            "text_sent is:  BOS i was looking for a canned bread with flavor for long-term storage . this product fills that need . i wish it was a little less pricey . the flavor is good . the biggest challange was getting it out of the can ! i had to cut open both ends of the can and it still was a battle ! EOS\n",
            "summ_truth is:   good product \n",
            "summ_pred is:  feldkamp pumpernickel & ms\n",
            "\n"
          ],
          "name": "stdout"
        }
      ]
    },
    {
      "cell_type": "code",
      "metadata": {
        "id": "21M78R9AOsUe",
        "colab_type": "code",
        "outputId": "32de3fd8-f9e7-4905-8311-dea502cbebeb",
        "colab": {
          "base_uri": "https://localhost:8080/",
          "height": 131
        }
      },
      "source": [
        "!pip install rouge"
      ],
      "execution_count": 0,
      "outputs": [
        {
          "output_type": "stream",
          "text": [
            "Collecting rouge\n",
            "  Downloading https://files.pythonhosted.org/packages/43/cc/e18e33be20971ff73a056ebdb023476b5a545e744e3fc22acd8c758f1e0d/rouge-1.0.0-py3-none-any.whl\n",
            "Requirement already satisfied: six in /usr/local/lib/python3.6/dist-packages (from rouge) (1.12.0)\n",
            "Installing collected packages: rouge\n",
            "Successfully installed rouge-1.0.0\n"
          ],
          "name": "stdout"
        }
      ]
    },
    {
      "cell_type": "code",
      "metadata": {
        "id": "CC7QRMfGpTs0",
        "colab_type": "code",
        "colab": {}
      },
      "source": [
        "from rouge import Rouge \n",
        "\n",
        "def rouge(i, model):\n",
        "    model.eval()\n",
        "\n",
        "    text_sent = \" \".join([inv_text_dict[word] for word in dev_text[i]])\n",
        "    summ_truth = \" \".join([inv_summ_dict[word] for word in dev_summ[i]]).strip('BOS').strip('EOS')\n",
        "    #print(\"text_sent is: \", text_sent)\n",
        "    #print(\"summ_truth is: \", summ_truth)\n",
        "\n",
        "    sent = nltk.word_tokenize(text_sent.lower())\n",
        "    bos = torch.Tensor([[summ_dict[\"BOS\"]]]).long().to(device)\n",
        "    \n",
        "    mb_x = torch.Tensor([[text_dict.get(w, 0) for w in sent]]).long().to(device)\n",
        "    mb_x_len = torch.Tensor([len(sent)]).long().to(device)\n",
        "    \n",
        "    summs, attention = model.predict(mb_x, mb_x_len, bos)\n",
        "    summs = [inv_summ_dict[i] for i in summs.data.cpu().numpy().reshape(-1)]\n",
        "\n",
        "    summ = []\n",
        "    for word in summs:\n",
        "        if word != \"EOS\":\n",
        "            summ.append(word)\n",
        "        else:\n",
        "            break\n",
        "    #print(\" \".join(trans))\n",
        "    summ_pred = \" \".join(summ)\n",
        "\n",
        "    rouge = Rouge()\n",
        "    scores = rouge.get_scores(summ_pred, summ_truth)\n",
        "\n",
        "    return scores\n"
      ],
      "execution_count": 0,
      "outputs": []
    },
    {
      "cell_type": "code",
      "metadata": {
        "id": "YSuk51EaulLP",
        "colab_type": "code",
        "colab": {}
      },
      "source": [
        "rouge_1_f, rouge_1_p, rouge_1_r = [],[],[]\n",
        "rouge_l_f, rouge_l_p, rouge_l_r = [],[],[]\n",
        "\n",
        "for i in range(0, len(dev_text), 10):\n",
        "    scores = rouge(i, model_no_att)\n",
        "\n",
        "    rouge_1_f.append(scores[0]['rouge-1']['f'])\n",
        "    rouge_1_p.append(scores[0]['rouge-1']['p'])\n",
        "    rouge_1_r.append(scores[0]['rouge-1']['r'])\n",
        "\n",
        "    rouge_l_f.append(scores[0]['rouge-l']['f'])\n",
        "    rouge_l_p.append(scores[0]['rouge-l']['p'])\n",
        "    rouge_l_r.append(scores[0]['rouge-l']['r'])"
      ],
      "execution_count": 0,
      "outputs": []
    },
    {
      "cell_type": "code",
      "metadata": {
        "id": "hHTFW6yop_iT",
        "colab_type": "code",
        "outputId": "cc2cf4b9-1081-4f81-83b4-496b0494a71b",
        "colab": {
          "base_uri": "https://localhost:8080/",
          "height": 119
        }
      },
      "source": [
        "print('ROUGE-1 F1 is: ', np.mean(rouge_1_f))\n",
        "print('ROUGE-1 precision is: ', np.mean(rouge_1_p))\n",
        "print('ROUGE-1 recall is: ', np.mean(rouge_1_r))\n",
        "\n",
        "print('ROUGE-l F1 is: ', np.mean(rouge_l_f))\n",
        "print('ROUGE-l precision is: ', np.mean(rouge_l_p))\n",
        "print('ROUGE-l recall is: ', np.mean(rouge_l_r))"
      ],
      "execution_count": 0,
      "outputs": [
        {
          "output_type": "stream",
          "text": [
            "ROUGE-1 F1 is:  0.0947512970252381\n",
            "ROUGE-1 precision is:  0.11234936733913191\n",
            "ROUGE-1 recall is:  0.09722388615458638\n",
            "ROUGE-l F1 is:  0.09672409185757067\n",
            "ROUGE-l precision is:  0.11393018871268616\n",
            "ROUGE-l recall is:  0.09909729588021082\n"
          ],
          "name": "stdout"
        }
      ]
    },
    {
      "cell_type": "code",
      "metadata": {
        "id": "uKjObIa_p_ZJ",
        "colab_type": "code",
        "colab": {}
      },
      "source": [
        ""
      ],
      "execution_count": 0,
      "outputs": []
    },
    {
      "cell_type": "code",
      "metadata": {
        "id": "4kf-SVoOp_W4",
        "colab_type": "code",
        "colab": {}
      },
      "source": [
        ""
      ],
      "execution_count": 0,
      "outputs": []
    },
    {
      "cell_type": "code",
      "metadata": {
        "id": "qB8pvojNzYLp",
        "colab_type": "code",
        "colab": {}
      },
      "source": [
        ""
      ],
      "execution_count": 0,
      "outputs": []
    },
    {
      "cell_type": "markdown",
      "metadata": {
        "id": "pnosuvBr0Tf2",
        "colab_type": "text"
      },
      "source": [
        "## Seq2seq with attention by dictionary word2vec"
      ]
    },
    {
      "cell_type": "code",
      "metadata": {
        "id": "d6tsOx06vrpF",
        "colab_type": "code",
        "colab": {}
      },
      "source": [
        "class Encoder(nn.Module):\n",
        "    def __init__(self, vocab_size, embed_size, enc_hidden_size, dec_hidden_size, dropout=0.2):\n",
        "        super(Encoder, self).__init__()\n",
        "        self.embed = nn.Embedding(vocab_size, embed_size)\n",
        "        self.rnn = nn.GRU(embed_size, enc_hidden_size, batch_first=True, bidirectional=True)\n",
        "        self.dropout = nn.Dropout(dropout)\n",
        "        self.fc = nn.Linear(enc_hidden_size * 2, dec_hidden_size)\n",
        "\n",
        "    def forward(self, x, lengths):\n",
        "        sorted_len, sorted_idx = lengths.sort(0, descending=True)\n",
        "        x_sorted = x[sorted_idx.long()]\n",
        "        embedded = self.dropout(self.embed(x_sorted))\n",
        "        \n",
        "        packed_embedded = nn.utils.rnn.pack_padded_sequence(embedded, sorted_len.long().cpu().data.numpy(), batch_first=True)\n",
        "        packed_out, hid = self.rnn(packed_embedded)\n",
        "        out, _ = nn.utils.rnn.pad_packed_sequence(packed_out, batch_first=True)\n",
        "        _, original_idx = sorted_idx.sort(0, descending=False)\n",
        "        out = out[original_idx.long()].contiguous()\n",
        "        hid = hid[:, original_idx.long()].contiguous()\n",
        "        \n",
        "        hid = torch.cat([hid[-2], hid[-1]], dim=1)\n",
        "        hid = torch.tanh(self.fc(hid)).unsqueeze(0)\n",
        "\n",
        "        return out, hid\n",
        "\n",
        "\n",
        "class Attention(nn.Module):\n",
        "    def __init__(self, enc_hidden_size, dec_hidden_size):\n",
        "        super(Attention, self).__init__()\n",
        "        self.enc_hidden_size = enc_hidden_size\n",
        "        self.dec_hidden_size = dec_hidden_size\n",
        "        self.linear_in = nn.Linear(enc_hidden_size*2, dec_hidden_size, bias=False)\n",
        "        self.linear_out = nn.Linear(enc_hidden_size*2 + dec_hidden_size, dec_hidden_size)\n",
        "        \n",
        "    def forward(self, output, context, mask):\n",
        "        # output: batch_size, output_len, dec_hidden_size\n",
        "        # context: batch_size, context_len, enc_hidden_size\n",
        "        batch_size = output.size(0)\n",
        "        output_len = output.size(1)\n",
        "        input_len = context.size(1)\n",
        "        \n",
        "        context_in = self.linear_in(context.view(batch_size*input_len, -1)).view(batch_size, input_len, -1) # batch_size, output_len, dec_hidden_size\n",
        "        attn = torch.bmm(output, context_in.transpose(1,2)) # batch_size, output_len, context_len\n",
        "  \n",
        "        attn.data.masked_fill(mask, -1e6)\n",
        "\n",
        "        attn = F.softmax(attn, dim=2) # batch_size, output_len, context_len\n",
        "\n",
        "        context = torch.bmm(attn, context) # batch_size, output_len, enc_hidden_size\n",
        "        \n",
        "        output = torch.cat((context, output), dim=2) # batch_size, output_len, hidden_size*2\n",
        "        \n",
        "        output = output.view(batch_size*output_len, -1)\n",
        "        output = torch.tanh(self.linear_out(output))\n",
        "        output = output.view(batch_size, output_len, -1)\n",
        "        return output, attn\n",
        "\n",
        "\n",
        "\n",
        "class Decoder(nn.Module):\n",
        "    def __init__(self, vocab_size, embed_size, enc_hidden_size, dec_hidden_size, dropout=0.2):\n",
        "        super(Decoder, self).__init__()\n",
        "        self.embed = nn.Embedding(vocab_size, embed_size)\n",
        "        self.attention = Attention(enc_hidden_size, dec_hidden_size)\n",
        "        self.rnn = nn.GRU(embed_size, hidden_size, batch_first=True)\n",
        "        self.out = nn.Linear(dec_hidden_size, vocab_size)\n",
        "        self.dropout = nn.Dropout(dropout)\n",
        "\n",
        "    def create_mask(self, x_len, y_len):\n",
        "        device = x_len.device\n",
        "        max_x_len = x_len.max()\n",
        "        max_y_len = y_len.max()\n",
        "        x_mask = torch.arange(max_x_len, device=x_len.device)[None, :] < x_len[:, None]\n",
        "        y_mask = torch.arange(max_y_len, device=x_len.device)[None, :] < y_len[:, None]\n",
        "        mask = (~x_mask[:, :, None] * y_mask[:, None, :]).byte()\n",
        "        return mask\n",
        "        \n",
        "        \n",
        "    def forward(self, ctx, ctx_lengths, y, y_lengths, hid):\n",
        "        sorted_len, sorted_idx = y_lengths.sort(0, descending=True)\n",
        "        y_sorted = y[sorted_idx.long()]\n",
        "        hid = hid[:, sorted_idx.long()]\n",
        "        \n",
        "        y_sorted = self.dropout(self.embed(y_sorted)) # batch_size, output_length, embed_size\n",
        "\n",
        "        packed_seq = nn.utils.rnn.pack_padded_sequence(y_sorted, sorted_len.long().cpu().data.numpy(), batch_first=True)\n",
        "        out, hid = self.rnn(packed_seq, hid)\n",
        "        unpacked, _ = nn.utils.rnn.pad_packed_sequence(out, batch_first=True)\n",
        "        _, original_idx = sorted_idx.sort(0, descending=False)\n",
        "        output_seq = unpacked[original_idx.long()].contiguous()\n",
        "        hid = hid[:, original_idx.long()].contiguous()\n",
        "\n",
        "        mask = self.create_mask(y_lengths, ctx_lengths)\n",
        "\n",
        "        # code.interact(local=locals())\n",
        "        output, attn = self.attention(output_seq, ctx, mask)\n",
        "        output = F.log_softmax(self.out(output), -1)\n",
        "        \n",
        "        return output, hid, attn"
      ],
      "execution_count": 0,
      "outputs": []
    },
    {
      "cell_type": "code",
      "metadata": {
        "id": "DuUYmhZmp_FW",
        "colab_type": "code",
        "colab": {}
      },
      "source": [
        "class Seq2Seq(nn.Module):\n",
        "    def __init__(self, encoder, decoder):\n",
        "        super(Seq2Seq, self).__init__()\n",
        "        self.encoder = encoder\n",
        "        self.decoder = decoder\n",
        "        \n",
        "    def forward(self, x, x_lengths, y, y_lengths):\n",
        "        encoder_out, hid = self.encoder(x, x_lengths)\n",
        "        output, hid, attn = self.decoder(ctx=encoder_out, \n",
        "                    ctx_lengths=x_lengths,\n",
        "                    y=y,\n",
        "                    y_lengths=y_lengths,\n",
        "                    hid=hid)\n",
        "        return output, attn\n",
        "    \n",
        "    def predict(self, x, x_lengths, y, max_length=100):\n",
        "        encoder_out, hid = self.encoder(x, x_lengths)\n",
        "        preds = []\n",
        "        batch_size = x.shape[0]\n",
        "        attns = []\n",
        "        for i in range(max_length):\n",
        "            output, hid, attn = self.decoder(ctx=encoder_out, \n",
        "                    ctx_lengths=x_lengths,\n",
        "                    y=y,\n",
        "                    y_lengths=torch.ones(batch_size).long().to(y.device),\n",
        "                    hid=hid)\n",
        "            y = output.max(2)[1].view(batch_size, 1)\n",
        "            preds.append(y)\n",
        "            attns.append(attn)\n",
        "        return torch.cat(preds, 1), torch.cat(attns, 1)"
      ],
      "execution_count": 0,
      "outputs": []
    },
    {
      "cell_type": "code",
      "metadata": {
        "id": "ni8F7IpH0x82",
        "colab_type": "code",
        "colab": {}
      },
      "source": [
        "device = torch.device(\"cuda\" if torch.cuda.is_available() else \"cpu\")\n",
        "\n",
        "text_vocab_size = len(text_dict)\n",
        "summ_vocab_size = len(summ_dict)\n",
        "embed_size = hidden_size = 100\n",
        "dropout = 0.1\n",
        "\n",
        "encoder = Encoder(vocab_size=text_vocab_size, \n",
        "                  embed_size=embed_size, \n",
        "                  enc_hidden_size=hidden_size,\n",
        "                  dec_hidden_size=hidden_size,\n",
        "                  dropout=dropout)\n",
        "decoder = Decoder(vocab_size=summ_vocab_size, \n",
        "                  embed_size=embed_size, \n",
        "                  enc_hidden_size=hidden_size,\n",
        "                  dec_hidden_size=hidden_size,\n",
        "                  dropout=dropout)\n",
        "model_att = Seq2Seq(encoder, decoder)\n",
        "model_att = model_att.to(device)\n",
        "crit = LanguageModelCriterion().to(device)\n",
        "optimizer = torch.optim.Adam(model_att.parameters(), lr=0.001)"
      ],
      "execution_count": 0,
      "outputs": []
    },
    {
      "cell_type": "code",
      "metadata": {
        "id": "45Hbxll70yO2",
        "colab_type": "code",
        "colab": {}
      },
      "source": [
        "loss = train(model_att, train_data, num_epochs=30)"
      ],
      "execution_count": 0,
      "outputs": []
    },
    {
      "cell_type": "code",
      "metadata": {
        "id": "pmMEKdsW0ybo",
        "colab_type": "code",
        "outputId": "bc084404-c0d5-4565-8f90-f0552697fd27",
        "colab": {
          "base_uri": "https://localhost:8080/",
          "height": 350
        }
      },
      "source": [
        "plot_loss(loss)"
      ],
      "execution_count": 0,
      "outputs": [
        {
          "output_type": "display_data",
          "data": {
            "image/png": "[encoded data removed]",
            "text/plain": [
              "<Figure size 720x360 with 1 Axes>"
            ]
          },
          "metadata": {
            "tags": [],
            "needs_background": "light"
          }
        }
      ]
    },
    {
      "cell_type": "code",
      "metadata": {
        "id": "KMqpMPdt2arg",
        "colab_type": "code",
        "colab": {}
      },
      "source": [
        "#torch.save(model_att, 'drive/My Drive/model_seq2seq_with_att.pkl')\n",
        "\n",
        "model_att = torch.load('drive/My Drive/model_seq2seq_with_att.pkl')"
      ],
      "execution_count": 0,
      "outputs": []
    },
    {
      "cell_type": "code",
      "metadata": {
        "id": "9cBOLHvT3rr-",
        "colab_type": "code",
        "colab": {}
      },
      "source": [
        "for i in range(1000,1003):\n",
        "    pred_dev(i, model_att)\n",
        "    print()"
      ],
      "execution_count": 0,
      "outputs": []
    },
    {
      "cell_type": "code",
      "metadata": {
        "id": "KgioSKRo0y6t",
        "colab_type": "code",
        "outputId": "d6f9a16d-4d8b-463f-c452-89af6de04cc8",
        "colab": {
          "base_uri": "https://localhost:8080/",
          "height": 119
        }
      },
      "source": [
        "rouge_1_f, rouge_1_p, rouge_1_r = [],[],[]\n",
        "rouge_l_f, rouge_l_p, rouge_l_r = [],[],[]\n",
        "\n",
        "for i in range(0, len(dev_text), 10):\n",
        "    scores = rouge(i, model_att)\n",
        "\n",
        "    rouge_1_f.append(scores[0]['rouge-1']['f'])\n",
        "    rouge_1_p.append(scores[0]['rouge-1']['p'])\n",
        "    rouge_1_r.append(scores[0]['rouge-1']['r'])\n",
        "\n",
        "    rouge_l_f.append(scores[0]['rouge-l']['f'])\n",
        "    rouge_l_p.append(scores[0]['rouge-l']['p'])\n",
        "    rouge_l_r.append(scores[0]['rouge-l']['r'])\n",
        "    \n",
        "\n",
        "print('ROUGE-1 F1 is: ', np.mean(rouge_1_f))\n",
        "print('ROUGE-1 precision is: ', np.mean(rouge_1_p))\n",
        "print('ROUGE-1 recall is: ', np.mean(rouge_1_r))\n",
        "\n",
        "print('ROUGE-l F1 is: ', np.mean(rouge_l_f))\n",
        "print('ROUGE-l precision is: ', np.mean(rouge_l_p))\n",
        "print('ROUGE-l recall is: ', np.mean(rouge_l_r))"
      ],
      "execution_count": 0,
      "outputs": [
        {
          "output_type": "stream",
          "text": [
            "ROUGE-1 F1 is:  0.11928154826957028\n",
            "ROUGE-1 precision is:  0.1434966952188037\n",
            "ROUGE-1 recall is:  0.11914756876976156\n",
            "ROUGE-l F1 is:  0.12215514537329088\n",
            "ROUGE-l precision is:  0.146572631564955\n",
            "ROUGE-l recall is:  0.1207956605586616\n"
          ],
          "name": "stdout"
        }
      ]
    },
    {
      "cell_type": "code",
      "metadata": {
        "id": "9irenCNO0zVT",
        "colab_type": "code",
        "colab": {}
      },
      "source": [
        ""
      ],
      "execution_count": 0,
      "outputs": []
    },
    {
      "cell_type": "code",
      "metadata": {
        "id": "FBbLHBf30z9G",
        "colab_type": "code",
        "colab": {}
      },
      "source": [
        ""
      ],
      "execution_count": 0,
      "outputs": []
    },
    {
      "cell_type": "code",
      "metadata": {
        "id": "dTstQ3Iu0H9g",
        "colab_type": "code",
        "colab": {}
      },
      "source": [
        ""
      ],
      "execution_count": 0,
      "outputs": []
    },
    {
      "cell_type": "markdown",
      "metadata": {
        "id": "rKMTuPQX0J3Z",
        "colab_type": "text"
      },
      "source": [
        "## Seq2seq with attention by pre-trained wiki word embeddings"
      ]
    },
    {
      "cell_type": "code",
      "metadata": {
        "id": "kAAZByd30H7M",
        "colab_type": "code",
        "outputId": "716dcbaa-adf5-445c-ecc5-7c62acca4905",
        "colab": {
          "base_uri": "https://localhost:8080/",
          "height": 68
        }
      },
      "source": [
        "import os\n",
        "import sys\n",
        "import math\n",
        "from collections import Counter\n",
        "import numpy as np\n",
        "import random\n",
        "\n",
        "import torch\n",
        "import torch.nn as nn\n",
        "import torch.nn.functional as F\n",
        "\n",
        "import pandas as pd\n",
        "import numpy as np\n",
        "import matplotlib.pyplot as plt\n",
        "from sklearn.model_selection import train_test_split\n",
        "import pickle\n",
        "\n",
        "import nltk\n",
        "nltk.download('punkt')\n"
      ],
      "execution_count": 0,
      "outputs": [
        {
          "output_type": "stream",
          "text": [
            "[nltk_data] Downloading package punkt to /root/nltk_data...\n",
            "[nltk_data]   Package punkt is already up-to-date!\n"
          ],
          "name": "stdout"
        },
        {
          "output_type": "execute_result",
          "data": {
            "text/plain": [
              "True"
            ]
          },
          "metadata": {
            "tags": []
          },
          "execution_count": 10
        }
      ]
    },
    {
      "cell_type": "code",
      "metadata": {
        "id": "ogBnnryM0H3q",
        "colab_type": "code",
        "colab": {}
      },
      "source": [
        "embed_raw = pickle.load(open(\"drive/My Drive/cc.en.300.pkl\", \"rb\"))"
      ],
      "execution_count": 0,
      "outputs": []
    },
    {
      "cell_type": "code",
      "metadata": {
        "id": "uvvKr8cu0H0R",
        "colab_type": "code",
        "outputId": "2cff53cf-9698-4242-b2eb-ba876355b2fa",
        "colab": {
          "base_uri": "https://localhost:8080/",
          "height": 34
        }
      },
      "source": [
        "embed_dim = len(embed_raw['Band'])\n",
        "\n",
        "print(len(embed_raw), embed_dim)"
      ],
      "execution_count": 0,
      "outputs": [
        {
          "output_type": "stream",
          "text": [
            "2000000 300\n"
          ],
          "name": "stdout"
        }
      ]
    },
    {
      "cell_type": "code",
      "metadata": {
        "id": "TO97MzAz08oO",
        "colab_type": "code",
        "outputId": "eeaf5e0b-cfdd-4b74-bf05-3aca92d70850",
        "colab": {
          "base_uri": "https://localhost:8080/",
          "height": 221
        }
      },
      "source": [
        "DATA_PATH = 'drive/My Drive/'\n",
        "reviews = pd.read_csv(f'{DATA_PATH}Reviews.csv', usecols=['Summary', 'Text'], engine='python', encoding='utf-8', error_bad_lines=False)\n",
        "\n",
        "# drop rows with no Summary\n",
        "reviews.dropna(inplace=True)\n",
        "\n",
        "# drop duplicated \n",
        "reviews.drop_duplicates(['Text'], keep='first', inplace=True)\n",
        "print('total reviews', reviews.shape[0])\n",
        "reviews.head(5)"
      ],
      "execution_count": 0,
      "outputs": [
        {
          "output_type": "stream",
          "text": [
            "total reviews 393576\n"
          ],
          "name": "stdout"
        },
        {
          "output_type": "execute_result",
          "data": {
            "text/html": [
              "<div>\n",
              "<style scoped>\n",
              "    .dataframe tbody tr th:only-of-type {\n",
              "        vertical-align: middle;\n",
              "    }\n",
              "\n",
              "    .dataframe tbody tr th {\n",
              "        vertical-align: top;\n",
              "    }\n",
              "\n",
              "    .dataframe thead th {\n",
              "        text-align: right;\n",
              "    }\n",
              "</style>\n",
              "<table border=\"1\" class=\"dataframe\">\n",
              "  <thead>\n",
              "    <tr style=\"text-align: right;\">\n",
              "      <th></th>\n",
              "      <th>Summary</th>\n",
              "      <th>Text</th>\n",
              "    </tr>\n",
              "  </thead>\n",
              "  <tbody>\n",
              "    <tr>\n",
              "      <th>0</th>\n",
              "      <td>Good Quality Dog Food</td>\n",
              "      <td>I have bought several of the Vitality canned d...</td>\n",
              "    </tr>\n",
              "    <tr>\n",
              "      <th>1</th>\n",
              "      <td>Not as Advertised</td>\n",
              "      <td>Product arrived labeled as Jumbo Salted Peanut...</td>\n",
              "    </tr>\n",
              "    <tr>\n",
              "      <th>2</th>\n",
              "      <td>\"Delight\" says it all</td>\n",
              "      <td>This is a confection that has been around a fe...</td>\n",
              "    </tr>\n",
              "    <tr>\n",
              "      <th>3</th>\n",
              "      <td>Cough Medicine</td>\n",
              "      <td>If you are looking for the secret ingredient i...</td>\n",
              "    </tr>\n",
              "    <tr>\n",
              "      <th>4</th>\n",
              "      <td>Great taffy</td>\n",
              "      <td>Great taffy at a great price.  There was a wid...</td>\n",
              "    </tr>\n",
              "  </tbody>\n",
              "</table>\n",
              "</div>"
            ],
            "text/plain": [
              "                 Summary                                               Text\n",
              "0  Good Quality Dog Food  I have bought several of the Vitality canned d...\n",
              "1      Not as Advertised  Product arrived labeled as Jumbo Salted Peanut...\n",
              "2  \"Delight\" says it all  This is a confection that has been around a fe...\n",
              "3         Cough Medicine  If you are looking for the secret ingredient i...\n",
              "4            Great taffy  Great taffy at a great price.  There was a wid..."
            ]
          },
          "metadata": {
            "tags": []
          },
          "execution_count": 80
        }
      ]
    },
    {
      "cell_type": "code",
      "metadata": {
        "id": "BFRazwBgQlVf",
        "colab_type": "code",
        "outputId": "a8d7a9e1-4dc4-40e3-88ca-97ed10bcfcc8",
        "colab": {
          "base_uri": "https://localhost:8080/",
          "height": 369
        }
      },
      "source": [
        "reviews['Summary_len'] = reviews.Summary.apply(lambda x: len(x.split()))\n",
        "reviews['Text_len'] = reviews.Text.apply(lambda x: len(x.split()))  \n",
        "\n",
        "plt.figure(figsize=(20, 5))\n",
        "\n",
        "plt.subplot(1, 2, 1)\n",
        "plt.hist(reviews.Text_len[reviews['Text_len'] < 600], bins=50)\n",
        "plt.title('Text Length')\n",
        "\n",
        "plt.subplot(1, 2, 2)\n",
        "plt.hist(reviews['Summary_len'], bins=40)\n",
        "plt.title('Summary Length')\n",
        "plt.tight_layout()"
      ],
      "execution_count": 0,
      "outputs": [
        {
          "output_type": "display_data",
          "data": {
            "image/png": "[encoded data removed]",
            "text/plain": [
              "<Figure size 1440x360 with 2 Axes>"
            ]
          },
          "metadata": {
            "tags": [],
            "needs_background": "light"
          }
        }
      ]
    },
    {
      "cell_type": "code",
      "metadata": {
        "id": "BqIyCYDSQltj",
        "colab_type": "code",
        "outputId": "4dad5ae3-da11-4531-9504-4ee539d621f1",
        "colab": {
          "base_uri": "https://localhost:8080/",
          "height": 34
        }
      },
      "source": [
        "# drop short reviews < 10\n",
        "reviews = reviews[(reviews['Text_len'] > 50) & (reviews['Text_len'] < 200)].reset_index(drop=True)\n",
        "\n",
        "print('total reviews', reviews.shape[0])"
      ],
      "execution_count": 0,
      "outputs": [
        {
          "output_type": "stream",
          "text": [
            "total reviews 195348\n"
          ],
          "name": "stdout"
        }
      ]
    },
    {
      "cell_type": "code",
      "metadata": {
        "id": "__eqNdYMQl56",
        "colab_type": "code",
        "colab": {}
      },
      "source": [
        "train_df, test_df = train_test_split(reviews, test_size=0.1, random_state=100)"
      ],
      "execution_count": 0,
      "outputs": []
    },
    {
      "cell_type": "code",
      "metadata": {
        "id": "y5DHqc2mQnzk",
        "colab_type": "code",
        "colab": {}
      },
      "source": [
        "def load_data(df):\n",
        "    text = []\n",
        "    summ = []\n",
        "    num_examples = 0\n",
        "\n",
        "    for line in df.Text.values:\n",
        "          line = line.strip().split(\"\\t\")\n",
        "          text.append([\"BOS\"] + nltk.word_tokenize(line[0].lower()) + [\"EOS\"])\n",
        "\n",
        "    for line in df.Summary.values:\n",
        "          line = line.strip().split(\"\\t\")\n",
        "          summ.append([\"BOS\"] + nltk.word_tokenize(line[0].lower()) + [\"EOS\"])\n",
        "    \n",
        "    return text, summ\n",
        "\n",
        "\n",
        "train_text, train_summ = load_data(train_df)\n",
        "dev_text, dev_summ = load_data(test_df)"
      ],
      "execution_count": 0,
      "outputs": []
    },
    {
      "cell_type": "code",
      "metadata": {
        "id": "BJjWOl8wUtQl",
        "colab_type": "code",
        "outputId": "bab35867-ac3a-4610-9a27-665aa52d7b48",
        "colab": {
          "base_uri": "https://localhost:8080/",
          "height": 76
        }
      },
      "source": [
        "print('Text example: ', train_text[2])\n",
        "print('Summary example: ', train_summ[2])"
      ],
      "execution_count": 0,
      "outputs": [
        {
          "output_type": "stream",
          "text": [
            "Text example:  ['BOS', 'these', 'chips', 'are', 'unusual', 'and', 'they', 'do', '``', 'grow', \"''\", 'on', 'you', '.', 'the', 'taste', 'is', 'most', 'like', 'shoestring', 'potatoes', ',', 'of', 'which', 'i', 'am', 'boderline', 'addicted', '.', 'i', 'would', 'order', 'these', 'again', ',', 'but', 'they', 'are', 'just', 'too', 'salty', 'for', 'my', 'taste', '.', 'i', 'ordered', 'the', 'plain', ',', 'so', 'i', 'do', \"n't\", 'know', 'if', 'the', 'other', 'flavors', 'are', 'also', 'salty', '.', 'EOS']\n",
            "Summary example:  ['BOS', 'good', 'taste', ',', 'a', 'little', 'too', 'salty', 'EOS']\n"
          ],
          "name": "stdout"
        }
      ]
    },
    {
      "cell_type": "code",
      "metadata": {
        "id": "yRpSmn7iQnv2",
        "colab_type": "code",
        "colab": {}
      },
      "source": [
        "UNK_IDX = 0\n",
        "PAD_IDX = 1\n",
        "\n",
        "def build_dict(sentences, max_words=50000):\n",
        "    word_count = Counter()\n",
        "    for sentence in sentences:\n",
        "        for s in sentence:\n",
        "            word_count[s] += 1\n",
        "    ls = word_count.most_common(max_words)\n",
        "    total_words = len(ls) + 2\n",
        "    word_dict = {w[0]: index+2 for index, w in enumerate(ls)}\n",
        "    word_dict[\"UNK\"] = UNK_IDX\n",
        "    word_dict[\"PAD\"] = PAD_IDX\n",
        "    return word_dict, total_words\n",
        "\n",
        "text_dict, text_total_words = build_dict(train_text)\n",
        "summ_dict, summ_total_words = build_dict(train_summ)\n",
        "inv_text_dict = {v: k for k, v in text_dict.items()}\n",
        "inv_summ_dict = {v: k for k, v in summ_dict.items()}"
      ],
      "execution_count": 0,
      "outputs": []
    },
    {
      "cell_type": "code",
      "metadata": {
        "id": "ah-f46z6pnxW",
        "colab_type": "code",
        "outputId": "c685cf09-03f1-4380-ff03-722bf9b72ac8",
        "colab": {
          "base_uri": "https://localhost:8080/",
          "height": 34
        }
      },
      "source": [
        "inv_text_dict[19]"
      ],
      "execution_count": 0,
      "outputs": [
        {
          "output_type": "execute_result",
          "data": {
            "text/plain": [
              "'BOS'"
            ]
          },
          "metadata": {
            "tags": []
          },
          "execution_count": 91
        }
      ]
    },
    {
      "cell_type": "code",
      "metadata": {
        "id": "aoLhgMZnQnaY",
        "colab_type": "code",
        "colab": {}
      },
      "source": [
        "def embedding(text_sentences, summ_sentences, text_dict, summ_dict, sort_by_len=True):\n",
        "    '''\n",
        "    Enmbedding the sentence to vector sequences.  \n",
        "    '''\n",
        "    length = len(text_sentences)\n",
        "    out_text_sentences = [[text_dict.get(w, 0) for w in sent] for sent in text_sentences]\n",
        "    out_summ_sentences = [[summ_dict.get(w, 0) for w in sent] for sent in summ_sentences]\n",
        "\n",
        "    # sort sentences by english lengths\n",
        "    def len_argsort(seq):\n",
        "        return sorted(range(len(seq)), key=lambda x: len(seq[x]))\n",
        "       \n",
        "    if sort_by_len:\n",
        "        sorted_index = len_argsort(out_text_sentences)\n",
        "        out_text_sentences = [out_text_sentences[i] for i in sorted_index]\n",
        "        out_summ_sentences = [out_summ_sentences[i] for i in sorted_index]\n",
        "        \n",
        "    return out_text_sentences, out_summ_sentences\n",
        "\n",
        "train_text, train_summ = embedding(train_text, train_summ, text_dict, summ_dict)\n",
        "dev_text, dev_summ = embedding(dev_text, dev_summ, text_dict, summ_dict)"
      ],
      "execution_count": 0,
      "outputs": []
    },
    {
      "cell_type": "code",
      "metadata": {
        "id": "ATYjyTbcQnWy",
        "colab_type": "code",
        "colab": {}
      },
      "source": [
        "def get_minibatches(n, minibatch_size, shuffle=True):\n",
        "    idx_list = np.arange(0, n, minibatch_size)\n",
        "    if shuffle:\n",
        "        np.random.shuffle(idx_list)\n",
        "    minibatches = []\n",
        "    for idx in idx_list:\n",
        "        minibatches.append(np.arange(idx, min(idx + minibatch_size, n)))\n",
        "    return minibatches\n",
        "\n",
        "def prepare_data(seqs):\n",
        "    lengths = [len(seq) for seq in seqs]\n",
        "    n_samples = len(seqs)\n",
        "    max_len = np.max(lengths)\n",
        "\n",
        "    x = np.zeros((n_samples, max_len)).astype('int32')\n",
        "    x_lengths = np.array(lengths).astype(\"int32\")\n",
        "    for idx, seq in enumerate(seqs):\n",
        "        x[idx, :lengths[idx]] = seq\n",
        "    return x, x_lengths #x_mask\n",
        "\n",
        "def gen_examples(text_sentences, summ_sentences, batch_size):\n",
        "    minibatches = get_minibatches(len(text_sentences), batch_size)\n",
        "    all_ex = []\n",
        "    for minibatch in minibatches:\n",
        "        mb_text_sentences = [text_sentences[t] for t in minibatch]\n",
        "        mb_summ_sentences = [summ_sentences[t] for t in minibatch]\n",
        "        mb_x, mb_x_len = prepare_data(mb_text_sentences)\n",
        "        mb_y, mb_y_len = prepare_data(mb_summ_sentences)\n",
        "        all_ex.append((mb_x, mb_x_len, mb_y, mb_y_len))\n",
        "    return all_ex\n",
        "\n",
        "batch_size = 64\n",
        "train_data = gen_examples(train_text, train_summ, batch_size)\n",
        "random.shuffle(train_data)\n",
        "dev_data = gen_examples(dev_text, dev_summ, batch_size)"
      ],
      "execution_count": 0,
      "outputs": []
    },
    {
      "cell_type": "code",
      "metadata": {
        "id": "c3LrK9weYA0h",
        "colab_type": "code",
        "outputId": "a518c063-700e-4c20-c3f9-218dc0ffba0a",
        "colab": {
          "base_uri": "https://localhost:8080/",
          "height": 34
        }
      },
      "source": [
        "np.shape(train_data)"
      ],
      "execution_count": 0,
      "outputs": [
        {
          "output_type": "execute_result",
          "data": {
            "text/plain": [
              "(2748, 4)"
            ]
          },
          "metadata": {
            "tags": []
          },
          "execution_count": 94
        }
      ]
    },
    {
      "cell_type": "code",
      "metadata": {
        "id": "AWg4AjLhUwEU",
        "colab_type": "code",
        "colab": {}
      },
      "source": [
        "def create_embeddings(vect, idx2word, emb_size, pad_idx=1):\n",
        "    emb = nn.Embedding(len(idx2word), emb_size, padding_idx=pad_idx)\n",
        "    weights = emb.weight.data\n",
        "    for i, word in enumerate(idx2word):\n",
        "        try:\n",
        "            weights[i] = torch.from_numpy(vect[word] * 3)\n",
        "        except:\n",
        "            pass\n",
        "\n",
        "    emb.weight.requires_grad = False\n",
        "    return emb\n",
        "\n",
        "def rand_t(*sz): \n",
        "    return torch.randn(sz) / np.sqrt(sz[0])\n",
        "\n",
        "def rand_p(*sz): \n",
        "    return nn.Parameter(rand_t(*sz))"
      ],
      "execution_count": 0,
      "outputs": []
    },
    {
      "cell_type": "code",
      "metadata": {
        "id": "r8L9djh2QnTu",
        "colab_type": "code",
        "colab": {}
      },
      "source": [
        "class Encoder(nn.Module):\n",
        "    def __init__(self, vecs_enc, idx2word_enc, em_sz_enc, vocab_size, embed_size, enc_hidden_size, dec_hidden_size, dropout=0.2):\n",
        "        super(Encoder, self).__init__()\n",
        "        self.embed = create_embeddings(vecs_enc, idx2word_enc, em_sz_enc, pad_idx=1)  # nn.Embedding(vocab_size, embed_size)\n",
        "        self.rnn = nn.GRU(embed_size, enc_hidden_size, batch_first=True, bidirectional=True)\n",
        "        self.dropout = nn.Dropout(dropout)\n",
        "        self.fc = nn.Linear(enc_hidden_size * 2, dec_hidden_size)\n",
        "\n",
        "    def forward(self, x, lengths):\n",
        "        sorted_len, sorted_idx = lengths.sort(0, descending=True)\n",
        "        x_sorted = x[sorted_idx.long()]\n",
        "        embedded = self.dropout(self.embed(x_sorted))\n",
        "        \n",
        "        packed_embedded = nn.utils.rnn.pack_padded_sequence(embedded, sorted_len.long().cpu().data.numpy(), batch_first=True)\n",
        "        packed_out, hid = self.rnn(packed_embedded)\n",
        "        out, _ = nn.utils.rnn.pad_packed_sequence(packed_out, batch_first=True)\n",
        "        _, original_idx = sorted_idx.sort(0, descending=False)\n",
        "        out = out[original_idx.long()].contiguous()\n",
        "        hid = hid[:, original_idx.long()].contiguous()\n",
        "        \n",
        "        hid = torch.cat([hid[-2], hid[-1]], dim=1)\n",
        "        hid = torch.tanh(self.fc(hid)).unsqueeze(0)\n",
        "\n",
        "        return out, hid\n",
        "\n",
        "\n",
        "class Attention(nn.Module):\n",
        "    def __init__(self, enc_hidden_size, dec_hidden_size):\n",
        "        super(Attention, self).__init__()\n",
        "\n",
        "        self.enc_hidden_size = enc_hidden_size\n",
        "        self.dec_hidden_size = dec_hidden_size\n",
        "\n",
        "        self.linear_in = nn.Linear(enc_hidden_size*2, dec_hidden_size, bias=False)\n",
        "        self.linear_out = nn.Linear(enc_hidden_size*2 + dec_hidden_size, dec_hidden_size)\n",
        "        \n",
        "    def forward(self, output, context, mask):\n",
        "        # output: batch_size, output_len, dec_hidden_size\n",
        "        # context: batch_size, context_len, enc_hidden_size\n",
        "    \n",
        "        batch_size = output.size(0)\n",
        "        output_len = output.size(1)\n",
        "        input_len = context.size(1)\n",
        "        \n",
        "        context_in = self.linear_in(context.view(batch_size*input_len, -1)).view(batch_size, input_len, -1) # batch_size, output_len, dec_hidden_size\n",
        "        attn = torch.bmm(output, context_in.transpose(1,2)) # batch_size, output_len, context_len\n",
        "        \n",
        "        attn.data.masked_fill(mask, -1e6)\n",
        "\n",
        "        attn = F.softmax(attn, dim=2) # batch_size, output_len, context_len\n",
        "\n",
        "        context = torch.bmm(attn, context) # batch_size, output_len, enc_hidden_size\n",
        "        \n",
        "        output = torch.cat((context, output), dim=2) # batch_size, output_len, hidden_size*2\n",
        "\n",
        "        output = output.view(batch_size*output_len, -1)\n",
        "        output = torch.tanh(self.linear_out(output))\n",
        "        output = output.view(batch_size, output_len, -1)\n",
        "        return output, attn\n",
        "\n",
        "\n",
        "class Decoder(nn.Module):\n",
        "    def __init__(self, vecs_dec, idx2word_dec, em_sz_dec, vocab_size, embed_size, enc_hidden_size, dec_hidden_size, dropout=0.2):\n",
        "        super(Decoder, self).__init__()\n",
        "        self.embed = create_embeddings(vecs_dec, idx2word_dec, em_sz_dec, pad_idx=1)  #nn.Embedding(vocab_size, embed_size)\n",
        "        self.attention = Attention(enc_hidden_size, dec_hidden_size)\n",
        "        self.rnn = nn.GRU(embed_size, hidden_size, batch_first=True)\n",
        "        self.out = nn.Linear(dec_hidden_size, vocab_size)\n",
        "        self.dropout = nn.Dropout(dropout)\n",
        "\n",
        "    def create_mask(self, x_len, y_len):\n",
        "        device = x_len.device\n",
        "        max_x_len = x_len.max()\n",
        "        max_y_len = y_len.max()\n",
        "        x_mask = torch.arange(max_x_len, device=x_len.device)[None, :] < x_len[:, None]\n",
        "        y_mask = torch.arange(max_y_len, device=x_len.device)[None, :] < y_len[:, None]\n",
        "        mask = (~x_mask[:, :, None] * y_mask[:, None, :]).byte()\n",
        "        return mask\n",
        "        \n",
        "        \n",
        "    def forward(self, ctx, ctx_lengths, y, y_lengths, hid):\n",
        "        sorted_len, sorted_idx = y_lengths.sort(0, descending=True)\n",
        "        y_sorted = y[sorted_idx.long()]\n",
        "        hid = hid[:, sorted_idx.long()]\n",
        "        \n",
        "        y_sorted = self.dropout(self.embed(y_sorted)) # batch_size, output_length, embed_size\n",
        "\n",
        "        packed_seq = nn.utils.rnn.pack_padded_sequence(y_sorted, sorted_len.long().cpu().data.numpy(), batch_first=True)\n",
        "        out, hid = self.rnn(packed_seq, hid)\n",
        "        unpacked, _ = nn.utils.rnn.pad_packed_sequence(out, batch_first=True)\n",
        "        _, original_idx = sorted_idx.sort(0, descending=False)\n",
        "        output_seq = unpacked[original_idx.long()].contiguous()\n",
        "        hid = hid[:, original_idx.long()].contiguous()\n",
        "\n",
        "        mask = self.create_mask(y_lengths, ctx_lengths)\n",
        "\n",
        "        # code.interact(local=locals())\n",
        "        output, attn = self.attention(output_seq, ctx, mask)\n",
        "        output = F.log_softmax(self.out(output), -1)\n",
        "        \n",
        "        return output, hid, attn"
      ],
      "execution_count": 0,
      "outputs": []
    },
    {
      "cell_type": "code",
      "metadata": {
        "id": "CUZGh8qzQnQe",
        "colab_type": "code",
        "colab": {}
      },
      "source": [
        "class Seq2Seq(nn.Module):\n",
        "    def __init__(self, encoder, decoder):\n",
        "        super(Seq2Seq, self).__init__()\n",
        "        self.encoder = encoder\n",
        "        self.decoder = decoder\n",
        "        \n",
        "    def forward(self, x, x_lengths, y, y_lengths):\n",
        "        encoder_out, hid = self.encoder(x, x_lengths)\n",
        "        output, hid, attn = self.decoder(ctx=encoder_out, \n",
        "                    ctx_lengths=x_lengths,\n",
        "                    y=y,\n",
        "                    y_lengths=y_lengths,\n",
        "                    hid=hid)\n",
        "        return output, attn\n",
        "    \n",
        "    def predict(self, x, x_lengths, y, max_length=100):\n",
        "        encoder_out, hid = self.encoder(x, x_lengths)\n",
        "        preds = []\n",
        "        batch_size = x.shape[0]\n",
        "        attns = []\n",
        "        for i in range(max_length):\n",
        "            output, hid, attn = self.decoder(ctx=encoder_out, \n",
        "                    ctx_lengths=x_lengths,\n",
        "                    y=y,\n",
        "                    y_lengths=torch.ones(batch_size).long().to(y.device),\n",
        "                    hid=hid)\n",
        "            y = output.max(2)[1].view(batch_size, 1)\n",
        "            preds.append(y)\n",
        "            attns.append(attn)\n",
        "        return torch.cat(preds, 1), torch.cat(attns, 1)"
      ],
      "execution_count": 0,
      "outputs": []
    },
    {
      "cell_type": "code",
      "metadata": {
        "id": "yIP0zFA4Qm-J",
        "colab_type": "code",
        "colab": {}
      },
      "source": [
        "class LanguageModelCriterion(nn.Module):\n",
        "    def __init__(self):\n",
        "        super(LanguageModelCriterion, self).__init__()\n",
        "\n",
        "    def forward(self, input, target, mask):\n",
        "        input = input.contiguous().view(-1, input.size(2))\n",
        "        target = target.contiguous().view(-1, 1)\n",
        "        mask = mask.contiguous().view(-1, 1)\n",
        "        output = -input.gather(1, target) * mask\n",
        "        output = torch.sum(output) / torch.sum(mask)\n",
        "\n",
        "        return output"
      ],
      "execution_count": 0,
      "outputs": []
    },
    {
      "cell_type": "code",
      "metadata": {
        "id": "bOxX1HvGQmre",
        "colab_type": "code",
        "colab": {}
      },
      "source": [
        "def evaluate(model, data):\n",
        "    model.eval()\n",
        "    total_num_words = total_loss = 0.\n",
        "    with torch.no_grad():\n",
        "        for it, (mb_x, mb_x_lengths, mb_y, mb_y_lengths) in enumerate(data):\n",
        "            mb_x = torch.from_numpy(mb_x).long().to(device)\n",
        "            mb_x_lengths = torch.from_numpy(mb_x_lengths).long().to(device)\n",
        "            mb_input = torch.from_numpy(mb_y[:,:-1]).long().to(device)\n",
        "            mb_out = torch.from_numpy(mb_y[:, 1:]).long().to(device)\n",
        "            mb_y_lengths = torch.from_numpy(mb_y_lengths-1).long().to(device)\n",
        "            mb_y_lengths[mb_y_lengths <= 0] = 1\n",
        "\n",
        "            mb_pred, attn = model(mb_x, mb_x_lengths, mb_input, mb_y_lengths)\n",
        "\n",
        "            mb_out_mask = torch.arange(mb_y_lengths.max().item(), device=device)[None, :] < mb_y_lengths[:, None]\n",
        "            mb_out_mask = mb_out_mask.float()\n",
        "            loss = crit(mb_pred, mb_out, mb_out_mask)\n",
        "\n",
        "            num_words = torch.sum(mb_y_lengths).item()\n",
        "            total_loss += loss.item() * num_words\n",
        "            total_num_words += num_words\n",
        "\n",
        "    print(\"evaluation loss\", total_loss/total_num_words)"
      ],
      "execution_count": 0,
      "outputs": []
    },
    {
      "cell_type": "code",
      "metadata": {
        "id": "-Mx0CeMOQmn0",
        "colab_type": "code",
        "colab": {}
      },
      "source": [
        "def train(model, data, num_epochs):\n",
        "    ls = []\n",
        "    for epoch in range(num_epochs):\n",
        "        total_num_words = total_loss = 0.\n",
        "        model.train()\n",
        "        for it, (mb_x, mb_x_lengths, mb_y, mb_y_lengths) in enumerate(data):\n",
        "            mb_x = torch.from_numpy(mb_x).long().to(device)\n",
        "            mb_x_lengths = torch.from_numpy(mb_x_lengths).long().to(device)\n",
        "            mb_input = torch.from_numpy(mb_y[:,:-1]).long().to(device)\n",
        "            mb_out = torch.from_numpy(mb_y[:, 1:]).long().to(device)\n",
        "            mb_y_lengths = torch.from_numpy(mb_y_lengths-1).long().to(device)\n",
        "            mb_y_lengths[mb_y_lengths <= 0] = 1\n",
        "\n",
        "            mb_pred, attn = model(mb_x, mb_x_lengths, mb_input, mb_y_lengths)\n",
        "\n",
        "            mb_out_mask = torch.arange(mb_y_lengths.max().item(), device=device)[None, :] < mb_y_lengths[:, None]\n",
        "            mb_out_mask = mb_out_mask.float()\n",
        "            loss = crit(mb_pred, mb_out, mb_out_mask)\n",
        "\n",
        "            num_words = torch.sum(mb_y_lengths).item()\n",
        "            total_loss += loss.item() * num_words\n",
        "            total_num_words += num_words\n",
        "\n",
        "            optimizer.zero_grad()\n",
        "            loss.backward()\n",
        "            torch.nn.utils.clip_grad_norm_(model.parameters(), 5.)\n",
        "            optimizer.step()\n",
        "\n",
        "            if it % 100 == 0:\n",
        "                print(\"epoch\", epoch, \"iteration\", it, \"loss\", loss.item())\n",
        "        print(\"epoch\", epoch, \"training loss\", total_loss/total_num_words)\n",
        "        if epoch % 5 == 0:\n",
        "            print(\"evaluating on dev...\")\n",
        "            evaluate(model, dev_data)\n",
        "\n",
        "        ls.append(total_loss/total_num_words)\n",
        "\n",
        "    return ls    "
      ],
      "execution_count": 0,
      "outputs": []
    },
    {
      "cell_type": "code",
      "metadata": {
        "id": "xv5lthbVQmht",
        "colab_type": "code",
        "colab": {}
      },
      "source": [
        "device = torch.device(\"cuda\" if torch.cuda.is_available() else \"cpu\")\n",
        "\n",
        "text_vocab_size = len(text_dict)\n",
        "summ_vocab_size = len(summ_dict)\n",
        "embed_size =  embed_dim\n",
        "hidden_size = 100\n",
        "dropout = 0.1\n",
        "\n",
        "encoder = Encoder(vecs_enc=embed_raw, idx2word_enc=inv_text_dict, em_sz_enc=embed_dim, \n",
        "                  vocab_size=text_vocab_size, \n",
        "                  embed_size=embed_size, \n",
        "                  enc_hidden_size=hidden_size,\n",
        "                  dec_hidden_size=hidden_size,\n",
        "                  dropout=dropout)\n",
        "\n",
        "decoder = Decoder(vecs_dec=embed_raw, idx2word_dec=inv_summ_dict, em_sz_dec=embed_dim,\n",
        "                  vocab_size=summ_vocab_size, \n",
        "                  embed_size=embed_size, \n",
        "                  enc_hidden_size=hidden_size,\n",
        "                  dec_hidden_size=hidden_size,\n",
        "                  dropout=dropout)\n",
        "\n",
        "model_emb = Seq2Seq(encoder, decoder)\n",
        "model_emb = model_emb.to(device)\n",
        "crit = LanguageModelCriterion().to(device)\n",
        "optimizer = torch.optim.Adam(model_emb.parameters(), lr=0.001)"
      ],
      "execution_count": 0,
      "outputs": []
    },
    {
      "cell_type": "code",
      "metadata": {
        "id": "3TsYVYkXQmQc",
        "colab_type": "code",
        "colab": {}
      },
      "source": [
        "loss = train(model_emb, train_data, num_epochs=30)"
      ],
      "execution_count": 0,
      "outputs": []
    },
    {
      "cell_type": "code",
      "metadata": {
        "id": "Ex7fye9_QmMO",
        "colab_type": "code",
        "outputId": "c6c8ca46-96ac-4244-95fb-a68b7b1b136c",
        "colab": {
          "base_uri": "https://localhost:8080/",
          "height": 350
        }
      },
      "source": [
        "def plot_loss(loss):\n",
        "    plt.figure(figsize=(10, 5))\n",
        "    plt.plot(loss, label='train_loss')\n",
        "    plt.legend()\n",
        "    plt.title('Training Results')\n",
        "    plt.xlabel('epoch')\n",
        "    plt.ylabel('loss')\n",
        "    plt.show()\n",
        "\n",
        "\n",
        "plot_loss(loss)"
      ],
      "execution_count": 103,
      "outputs": [
        {
          "output_type": "display_data",
          "data": {
            "image/png": "[encoded data removed]",
            "text/plain": [
              "<Figure size 720x360 with 1 Axes>"
            ]
          },
          "metadata": {
            "tags": [],
            "needs_background": "light"
          }
        }
      ]
    },
    {
      "cell_type": "code",
      "metadata": {
        "id": "AomGVPGTQmG6",
        "colab_type": "code",
        "outputId": "7d88701c-8e31-4ec5-c58d-1a09fa69587c",
        "colab": {
          "base_uri": "https://localhost:8080/",
          "height": 203
        }
      },
      "source": [
        "torch.save(model_emb, 'drive/My Drive/model_seq2seq_emb.pkl')\n",
        "\n",
        "#model_emb = torch.load('drive/My Drive/model_seq2seq_emb.pkl')"
      ],
      "execution_count": 104,
      "outputs": [
        {
          "output_type": "stream",
          "text": [
            "/usr/local/lib/python3.6/dist-packages/torch/serialization.py:402: UserWarning: Couldn't retrieve source code for container of type Seq2Seq. It won't be checked for correctness upon loading.\n",
            "  \"type \" + obj.__name__ + \". It won't be checked \"\n",
            "/usr/local/lib/python3.6/dist-packages/torch/serialization.py:402: UserWarning: Couldn't retrieve source code for container of type Encoder. It won't be checked for correctness upon loading.\n",
            "  \"type \" + obj.__name__ + \". It won't be checked \"\n",
            "/usr/local/lib/python3.6/dist-packages/torch/serialization.py:402: UserWarning: Couldn't retrieve source code for container of type Decoder. It won't be checked for correctness upon loading.\n",
            "  \"type \" + obj.__name__ + \". It won't be checked \"\n",
            "/usr/local/lib/python3.6/dist-packages/torch/serialization.py:402: UserWarning: Couldn't retrieve source code for container of type Attention. It won't be checked for correctness upon loading.\n",
            "  \"type \" + obj.__name__ + \". It won't be checked \"\n"
          ],
          "name": "stderr"
        }
      ]
    },
    {
      "cell_type": "code",
      "metadata": {
        "id": "dSRPwEjzQmCh",
        "colab_type": "code",
        "colab": {}
      },
      "source": [
        "def pred_dev(i, model):\n",
        "    model.eval()\n",
        "\n",
        "    text_sent = \" \".join([inv_text_dict[word] for word in dev_text[i]])\n",
        "    summ_truth = \" \".join([inv_summ_dict[word] for word in dev_summ[i]]).strip('BOS').strip('EOS')\n",
        "    print(\"text_sent is: \", text_sent)\n",
        "    print(\"summ_truth is: \", summ_truth)\n",
        "\n",
        "    sent = nltk.word_tokenize(text_sent.lower())\n",
        "    bos = torch.Tensor([[summ_dict[\"BOS\"]]]).long().to(device)\n",
        "    \n",
        "    mb_x = torch.Tensor([[text_dict.get(w, 0) for w in sent]]).long().to(device)\n",
        "    mb_x_len = torch.Tensor([len(sent)]).long().to(device)\n",
        "    \n",
        "    summs, attention = model.predict(mb_x, mb_x_len, bos)\n",
        "    summs = [inv_summ_dict[i] for i in summs.data.cpu().numpy().reshape(-1)]\n",
        "\n",
        "    summ = []\n",
        "    for word in summs:\n",
        "        if word != \"EOS\":\n",
        "            summ.append(word)\n",
        "        else:\n",
        "            break\n",
        "\n",
        "    summ_pred = \" \".join(summ)\n",
        "    print(\"summ_pred is: \", summ_pred)\n",
        "\n",
        "    return text_sent, summ_truth, summ_pred\n"
      ],
      "execution_count": 0,
      "outputs": []
    },
    {
      "cell_type": "code",
      "metadata": {
        "id": "sZPayjgEmY0k",
        "colab_type": "code",
        "colab": {}
      },
      "source": [
        "for num in range(0, len(dev_text), 200):\n",
        "    text_sent, summ_truth, summ_pred_emb = pred_dev(num, model_emb)\n",
        "    print('*' * 50)"
      ],
      "execution_count": 0,
      "outputs": []
    },
    {
      "cell_type": "code",
      "metadata": {
        "id": "0azExB3Kk58a",
        "colab_type": "code",
        "outputId": "11811a51-d094-4d8e-b2c6-303eab88c64d",
        "colab": {
          "base_uri": "https://localhost:8080/",
          "height": 102
        }
      },
      "source": [
        "!pip install rouge"
      ],
      "execution_count": 107,
      "outputs": [
        {
          "output_type": "stream",
          "text": [
            "Collecting rouge\n",
            "  Downloading https://files.pythonhosted.org/packages/43/cc/e18e33be20971ff73a056ebdb023476b5a545e744e3fc22acd8c758f1e0d/rouge-1.0.0-py3-none-any.whl\n",
            "Requirement already satisfied: six in /usr/local/lib/python3.6/dist-packages (from rouge) (1.12.0)\n",
            "Installing collected packages: rouge\n",
            "Successfully installed rouge-1.0.0\n"
          ],
          "name": "stdout"
        }
      ]
    },
    {
      "cell_type": "code",
      "metadata": {
        "id": "qS9PGIuikmS8",
        "colab_type": "code",
        "colab": {}
      },
      "source": [
        "from rouge import Rouge \n",
        "\n",
        "def rouge(i, model):\n",
        "    model.eval()\n",
        "\n",
        "    text_sent = \" \".join([inv_text_dict[word] for word in dev_text[i]])\n",
        "    summ_truth = \" \".join([inv_summ_dict[word] for word in dev_summ[i]]).strip('BOS').strip('EOS')\n",
        "    #print(\"text_sent is: \", text_sent)\n",
        "    #print(\"summ_truth is: \", summ_truth)\n",
        "\n",
        "    sent = nltk.word_tokenize(text_sent.lower())\n",
        "    bos = torch.Tensor([[summ_dict[\"BOS\"]]]).long().to(device)\n",
        "    \n",
        "    mb_x = torch.Tensor([[text_dict.get(w, 0) for w in sent]]).long().to(device)\n",
        "    mb_x_len = torch.Tensor([len(sent)]).long().to(device)\n",
        "    \n",
        "    summs, attention = model.predict(mb_x, mb_x_len, bos)\n",
        "    summs = [inv_summ_dict[i] for i in summs.data.cpu().numpy().reshape(-1)]\n",
        "\n",
        "    summ = []\n",
        "    for word in summs:\n",
        "        if word != \"EOS\":\n",
        "            summ.append(word)\n",
        "        else:\n",
        "            break\n",
        "    #print(\" \".join(trans))\n",
        "    summ_pred = \" \".join(summ)\n",
        "\n",
        "    rouge = Rouge()\n",
        "    scores = rouge.get_scores(summ_pred, summ_truth)\n",
        "\n",
        "    return scores"
      ],
      "execution_count": 0,
      "outputs": []
    },
    {
      "cell_type": "code",
      "metadata": {
        "id": "pxxip97chzMB",
        "colab_type": "code",
        "colab": {}
      },
      "source": [
        "rouge_1_f, rouge_1_p, rouge_1_r = [],[],[]\n",
        "rouge_l_f, rouge_l_p, rouge_l_r = [],[],[]\n",
        "\n",
        "for i in range(0, len(dev_text), 10):\n",
        "\n",
        "    scores = rouge(i, model_emb)\n",
        "\n",
        "    rouge_1_f.append(scores[0]['rouge-1']['f'])\n",
        "    rouge_1_p.append(scores[0]['rouge-1']['p'])\n",
        "    rouge_1_r.append(scores[0]['rouge-1']['r'])\n",
        "\n",
        "    rouge_l_f.append(scores[0]['rouge-l']['f'])\n",
        "    rouge_l_p.append(scores[0]['rouge-l']['p'])\n",
        "    rouge_l_r.append(scores[0]['rouge-l']['r'])\n"
      ],
      "execution_count": 0,
      "outputs": []
    },
    {
      "cell_type": "code",
      "metadata": {
        "id": "OwlzFZoFhzo5",
        "colab_type": "code",
        "colab": {
          "base_uri": "https://localhost:8080/",
          "height": 119
        },
        "outputId": "d62fa32e-6ad2-4afc-99df-39d8fc6d5fef"
      },
      "source": [
        "print('ROUGE-1 F1 is: ', np.mean(rouge_1_f))\n",
        "print('ROUGE-1 precision is: ', np.mean(rouge_1_p))\n",
        "print('ROUGE-1 recall is: ', np.mean(rouge_1_r))\n",
        "\n",
        "print('ROUGE-l F1 is: ', np.mean(rouge_l_f))\n",
        "print('ROUGE-l precision is: ', np.mean(rouge_l_p))\n",
        "print('ROUGE-l recall is: ', np.mean(rouge_l_r))"
      ],
      "execution_count": 110,
      "outputs": [
        {
          "output_type": "stream",
          "text": [
            "ROUGE-1 F1 is:  0.12466284106695578\n",
            "ROUGE-1 precision is:  0.1508298814798303\n",
            "ROUGE-1 recall is:  0.12995765435820525\n",
            "ROUGE-l F1 is:  0.1304735394746524\n",
            "ROUGE-l precision is:  0.156153168166986\n",
            "ROUGE-l recall is:  0.13080966565966773\n"
          ],
          "name": "stdout"
        }
      ]
    },
    {
      "cell_type": "code",
      "metadata": {
        "id": "2WR_r8rlhzyz",
        "colab_type": "code",
        "colab": {}
      },
      "source": [
        ""
      ],
      "execution_count": 0,
      "outputs": []
    },
    {
      "cell_type": "markdown",
      "metadata": {
        "id": "q3Au9ES8vnrh",
        "colab_type": "text"
      },
      "source": [
        "### Result comparison"
      ]
    },
    {
      "cell_type": "code",
      "metadata": {
        "id": "rdD0rpzxIaCh",
        "colab_type": "code",
        "colab": {}
      },
      "source": [
        "def res():\n",
        "  res = pd.DataFrame(columns=['idx', 'text_sent', 'summ_truth', 'summ_pred_no_att', 'summ_pred_with_att', 'summ_pred_emb'])\n",
        "\n",
        "  for num in range(0, len(dev_text), 200):\n",
        "    text_sent, summ_truth, summ_pred_no_att = pred_dev(num, model_no_att)\n",
        "    text_sent, summ_truth, summ_pred_with_att = pred_dev(num, model_with_att)\n",
        "    text_sent, summ_truth, summ_pred_emb = pred_dev(num, model_emb)\n",
        "\n",
        "    res = res.append([{'idx':num, 'text_sent':text_sent, 'summ_truth':summ_truth, 'summ_pred_no_att':summ_pred_no_att, 'summ_pred_with_att':summ_pred_with_att, 'summ_pred_emb':summ_pred_emb}])\n",
        "\n",
        "  return res\n",
        "\n",
        "\n",
        "model_no_att = torch.load('drive/My Drive/model_seq2seq_no_att.pkl')\n",
        "model_with_att = torch.load('drive/My Drive/model_seq2seq_with_att.pkl')\n",
        "model_emb = torch.load('drive/My Drive/model_seq2seq_emb.pkl')\n",
        "\n",
        "res_com = res()"
      ],
      "execution_count": 0,
      "outputs": []
    },
    {
      "cell_type": "code",
      "metadata": {
        "id": "yDYGP9htIfjn",
        "colab_type": "code",
        "colab": {}
      },
      "source": [
        "res_com.to_csv(\"drive/My Drive/res_comparison.csv\")"
      ],
      "execution_count": 0,
      "outputs": []
    },
    {
      "cell_type": "code",
      "metadata": {
        "id": "R1qFediMIyyc",
        "colab_type": "code",
        "colab": {}
      },
      "source": [
        ""
      ],
      "execution_count": 0,
      "outputs": []
    }
  ],
  "metadata": {
    "colab": {
      "name": "seq2seq_basic.ipynb",
      "provenance": [],
      "collapsed_sections": [],
      "toc_visible": true
    },
    "kernelspec": {
      "name": "python3",
      "display_name": "Python 3"
    },
    "accelerator": "GPU"
  },
  "nbformat": 4,
  "nbformat_minor": 0
}